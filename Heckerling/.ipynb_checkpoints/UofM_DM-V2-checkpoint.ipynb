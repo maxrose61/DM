{
 "cells": [
  {
   "cell_type": "code",
   "execution_count": 190,
   "metadata": {
    "collapsed": false
   },
   "outputs": [],
   "source": [
    "import pyodbc\n",
    "import pandas as pd\n",
    "import numpy as np\n",
    "import os.path\n",
    "#from datetime import time\n",
    "%matplotlib inline\n",
    "# -*- coding: utf-8 -*-\n"
   ]
  },
  {
   "cell_type": "code",
   "execution_count": 221,
   "metadata": {
    "collapsed": false
   },
   "outputs": [],
   "source": [
    "um = pd.read_excel('UM_2.xlsx', sheetname='Sessions', header=0)\n",
    "speak = pd.read_excel('UM_2.xlsx', sheetname='Speakers', header=0)\n",
    "um = um.apply(lambda x: x.str.strip() if x.dtype == \"object\" else x)\n",
    "speak = speak.apply(lambda x: x.str.strip() if x.dtype == \"object\" else x)\n",
    "speak['bio'] = speak.SpeakerBio.str.replace('.pdf', '.html')\n",
    "um = um.fillna('')\n",
    "speak = speak.fillna('')\n",
    "um['speakers'] = um[um.columns[7:12]].applymap(lambda x: [x] if (x != '') else []).sum(1).tolist()"
   ]
  },
  {
   "cell_type": "markdown",
   "metadata": {
    "collapsed": false
   },
   "source": []
  },
  {
   "cell_type": "code",
   "execution_count": 199,
   "metadata": {
    "collapsed": false
   },
   "outputs": [
    {
     "ename": "SyntaxError",
     "evalue": "invalid syntax (<ipython-input-199-fd25a9e09c41>, line 2)",
     "output_type": "error",
     "traceback": [
      "\u001b[0;36m  File \u001b[0;32m\"<ipython-input-199-fd25a9e09c41>\"\u001b[0;36m, line \u001b[0;32m2\u001b[0m\n\u001b[0;31m    speak['speaker'] = speak.SpeakerFirstName + ' ' + ( if(speak.SpeakerMiddle) else '') + ' ' + speak.SpeakerLastName\u001b[0m\n\u001b[0m                                                         ^\u001b[0m\n\u001b[0;31mSyntaxError\u001b[0m\u001b[0;31m:\u001b[0m invalid syntax\n"
     ]
    }
   ],
   "source": [
    "speak = speak.apply(lambda x: x.str.strip() if x.dtype == \"object\" else x)\n",
    "speak['speaker'] = speak.SpeakerFirstName + ' ' + speak.SpeakerMiddle + ' ' + speak.SpeakerLastName"
   ]
  },
  {
   "cell_type": "code",
   "execution_count": 222,
   "metadata": {
    "collapsed": false
   },
   "outputs": [],
   "source": [
    "# read in biographies from html.\n",
    "bx = []\n",
    "for sp in speak.bio:\n",
    "    if os.path.isfile(sp):\n",
    "        f = open(str(sp),'r')\n",
    "        message = f.read()\n",
    "        #print(message)\n",
    "        f.close()\n",
    "        bx.append(message)\n",
    "    else:\n",
    "        bx.append('')\n",
    "speak['biotext'] = bx  \n",
    "\n",
    "# Concatenate speaker full name to \"speaker\" column for matching purposes.\n",
    "cat = []\n",
    "for row in speak.itertuples():\n",
    "    if row.SpeakerMiddle:\n",
    "        cat.append(row.SpeakerFirstName + ' ' + row.SpeakerMiddle + ' ' + row.SpeakerLastName)\n",
    "    else:\n",
    "        cat.append(row.SpeakerFirstName  + ' ' + row.SpeakerLastName)\n",
    "        \n",
    "speak['speaker'] = cat\n",
    "    \n",
    "\n"
   ]
  },
  {
   "cell_type": "code",
   "execution_count": 223,
   "metadata": {
    "collapsed": false
   },
   "outputs": [],
   "source": []
  },
  {
   "cell_type": "code",
   "execution_count": 201,
   "metadata": {
    "collapsed": true
   },
   "outputs": [],
   "source": [
    "um.to_json('umtest.json',orient='records',date_format='iso' )"
   ]
  },
  {
   "cell_type": "code",
   "execution_count": 22,
   "metadata": {
    "collapsed": true
   },
   "outputs": [
    {
     "name": "stdout",
     "output_type": "stream",
     "text": [
      "1970-01-01 00:00:00\n",
      "1970-01-01 00:00:00\n",
      "1970-01-01 00:00:00\n",
      "1970-01-01 00:00:00\n",
      "1970-01-01 00:00:00\n",
      "1970-01-01 00:00:00\n",
      "1970-01-01 00:00:00\n",
      "1970-01-01 00:00:00\n",
      "1970-01-01 00:00:00\n",
      "1970-01-01 00:00:00\n",
      "1970-01-01 00:00:00\n",
      "1970-01-01 00:00:00\n",
      "1970-01-01 00:00:00\n",
      "1970-01-01 00:00:00\n",
      "1970-01-01 00:00:00\n",
      "1970-01-01 00:00:00\n",
      "1970-01-01 00:00:00\n",
      "1970-01-01 00:00:00\n",
      "1970-01-01 00:00:00\n",
      "1970-01-01 00:00:00\n",
      "1970-01-01 00:00:00\n",
      "1970-01-01 00:00:00\n",
      "1970-01-01 00:00:00\n",
      "1970-01-01 00:00:00\n",
      "1970-01-01 00:00:00\n",
      "1970-01-01 00:00:00\n",
      "1970-01-01 00:00:00\n",
      "1970-01-01 00:00:00\n",
      "1970-01-01 00:00:00\n",
      "1970-01-01 00:00:00\n",
      "1970-01-01 00:00:00\n",
      "1970-01-01 00:00:00\n",
      "1970-01-01 00:00:00\n",
      "1970-01-01 00:00:00\n",
      "1970-01-01 00:00:00\n",
      "1970-01-01 00:00:00\n",
      "1970-01-01 00:00:00\n",
      "1970-01-01 00:00:00\n",
      "1970-01-01 00:00:00\n",
      "1970-01-01 00:00:00\n",
      "1970-01-01 00:00:00\n",
      "1970-01-01 00:00:00\n",
      "1970-01-01 00:00:00\n",
      "1970-01-01 00:00:00\n",
      "1970-01-01 00:00:00\n",
      "1970-01-01 00:00:00\n",
      "1970-01-01 00:00:00\n",
      "1970-01-01 00:00:00\n",
      "1970-01-01 00:00:00\n",
      "1970-01-01 00:00:00\n",
      "1970-01-01 00:00:00\n",
      "1970-01-01 00:00:00\n",
      "1970-01-01 00:00:00\n",
      "1970-01-01 00:00:00\n",
      "1970-01-01 00:00:00\n",
      "1970-01-01 00:00:00\n",
      "1970-01-01 00:00:00\n",
      "1970-01-01 00:00:00\n",
      "1970-01-01 00:00:00\n",
      "1970-01-01 00:00:00\n",
      "1970-01-01 00:00:00\n",
      "1970-01-01 00:00:00\n"
     ]
    }
   ],
   "source": [
    "# df = DataFrame([[datetime.date(2013,1,1),datetime.date(2013,1,2)],[datetime.time(10),datetime.time(12)]]).T\n",
    "#df[['date','time']].apply(lambda x: datetime.datetime.combine(*list(x)),axis=1)\n",
    "d = '1970-01-01'\n",
    "for t in um['TimeStart']:\n",
    "    print pd.to_datetime(d)\n",
    "#pd.to_datetime('1907-01-01' + um.TimeStart, unit='ms')"
   ]
  },
  {
   "cell_type": "code",
   "execution_count": 200,
   "metadata": {
    "collapsed": true
   },
   "outputs": [],
   "source": [
    "speak.to_json('speakers.json',orient='records' )"
   ]
  },
  {
   "cell_type": "code",
   "execution_count": 86,
   "metadata": {
    "collapsed": false
   },
   "outputs": [
    {
     "data": {
      "text/html": [
       "<div>\n",
       "<table border=\"1\" class=\"dataframe\">\n",
       "  <thead>\n",
       "    <tr style=\"text-align: right;\">\n",
       "      <th></th>\n",
       "      <th>Date</th>\n",
       "      <th>TimeStart</th>\n",
       "      <th>TimeEnd</th>\n",
       "      <th>SessionID</th>\n",
       "      <th>ProgramTitle</th>\n",
       "      <th>ProgramDescription</th>\n",
       "      <th>ProgramMaterials</th>\n",
       "      <th>Speaker1</th>\n",
       "      <th>Speaker2</th>\n",
       "      <th>Speaker3</th>\n",
       "      <th>Speaker4</th>\n",
       "      <th>Speaker5</th>\n",
       "      <th>Speaker6</th>\n",
       "      <th>ProgramLocation</th>\n",
       "      <th>ProgramAttributes</th>\n",
       "      <th>speakers</th>\n",
       "    </tr>\n",
       "  </thead>\n",
       "  <tbody>\n",
       "    <tr>\n",
       "      <th>0</th>\n",
       "      <td>2018-01-21</td>\n",
       "      <td></td>\n",
       "      <td></td>\n",
       "      <td></td>\n",
       "      <td>Conference Check-In and On-Site Registration</td>\n",
       "      <td></td>\n",
       "      <td></td>\n",
       "      <td></td>\n",
       "      <td></td>\n",
       "      <td></td>\n",
       "      <td></td>\n",
       "      <td></td>\n",
       "      <td></td>\n",
       "      <td></td>\n",
       "      <td></td>\n",
       "      <td>[]</td>\n",
       "    </tr>\n",
       "    <tr>\n",
       "      <th>1</th>\n",
       "      <td>2018-01-22</td>\n",
       "      <td></td>\n",
       "      <td></td>\n",
       "      <td></td>\n",
       "      <td>Conference Check-In and On-Site Registration</td>\n",
       "      <td></td>\n",
       "      <td></td>\n",
       "      <td></td>\n",
       "      <td></td>\n",
       "      <td></td>\n",
       "      <td></td>\n",
       "      <td></td>\n",
       "      <td></td>\n",
       "      <td></td>\n",
       "      <td></td>\n",
       "      <td>[]</td>\n",
       "    </tr>\n",
       "    <tr>\n",
       "      <th>2</th>\n",
       "      <td>2018-01-22</td>\n",
       "      <td></td>\n",
       "      <td></td>\n",
       "      <td></td>\n",
       "      <td>Starting Off On the Right Foot While Avoiding ...</td>\n",
       "      <td>Clients launching new business ventures need a...</td>\n",
       "      <td>Fundamentals_1.pdf</td>\n",
       "      <td>Stephanie Loomis- Price</td>\n",
       "      <td>Samuel A. Donaldson</td>\n",
       "      <td>Ivan Taback</td>\n",
       "      <td></td>\n",
       "      <td></td>\n",
       "      <td></td>\n",
       "      <td></td>\n",
       "      <td>Fundamentals Program</td>\n",
       "      <td>[Stephanie Loomis- Price, Samuel A. Donaldson,...</td>\n",
       "    </tr>\n",
       "    <tr>\n",
       "      <th>3</th>\n",
       "      <td>2018-01-22</td>\n",
       "      <td></td>\n",
       "      <td></td>\n",
       "      <td></td>\n",
       "      <td>Break</td>\n",
       "      <td></td>\n",
       "      <td></td>\n",
       "      <td></td>\n",
       "      <td></td>\n",
       "      <td></td>\n",
       "      <td></td>\n",
       "      <td></td>\n",
       "      <td></td>\n",
       "      <td></td>\n",
       "      <td></td>\n",
       "      <td>[]</td>\n",
       "    </tr>\n",
       "    <tr>\n",
       "      <th>4</th>\n",
       "      <td>2018-01-22</td>\n",
       "      <td></td>\n",
       "      <td></td>\n",
       "      <td></td>\n",
       "      <td>Lunch</td>\n",
       "      <td></td>\n",
       "      <td></td>\n",
       "      <td></td>\n",
       "      <td></td>\n",
       "      <td></td>\n",
       "      <td></td>\n",
       "      <td></td>\n",
       "      <td></td>\n",
       "      <td></td>\n",
       "      <td></td>\n",
       "      <td>[]</td>\n",
       "    </tr>\n",
       "  </tbody>\n",
       "</table>\n",
       "</div>"
      ],
      "text/plain": [
       "        Date TimeStart TimeEnd SessionID  \\\n",
       "0 2018-01-21                               \n",
       "1 2018-01-22                               \n",
       "2 2018-01-22                               \n",
       "3 2018-01-22                               \n",
       "4 2018-01-22                               \n",
       "\n",
       "                                        ProgramTitle  \\\n",
       "0       Conference Check-In and On-Site Registration   \n",
       "1       Conference Check-In and On-Site Registration   \n",
       "2  Starting Off On the Right Foot While Avoiding ...   \n",
       "3                                              Break   \n",
       "4                                              Lunch   \n",
       "\n",
       "                                  ProgramDescription    ProgramMaterials  \\\n",
       "0                                                                          \n",
       "1                                                                          \n",
       "2  Clients launching new business ventures need a...  Fundamentals_1.pdf   \n",
       "3                                                                          \n",
       "4                                                                          \n",
       "\n",
       "                  Speaker1             Speaker2     Speaker3 Speaker4  \\\n",
       "0                                                                       \n",
       "1                                                                       \n",
       "2  Stephanie Loomis- Price  Samuel A. Donaldson  Ivan Taback            \n",
       "3                                                                       \n",
       "4                                                                       \n",
       "\n",
       "  Speaker5 Speaker6 ProgramLocation     ProgramAttributes  \\\n",
       "0                                                           \n",
       "1                                                           \n",
       "2                                    Fundamentals Program   \n",
       "3                                                           \n",
       "4                                                           \n",
       "\n",
       "                                            speakers  \n",
       "0                                                 []  \n",
       "1                                                 []  \n",
       "2  [Stephanie Loomis- Price, Samuel A. Donaldson,...  \n",
       "3                                                 []  \n",
       "4                                                 []  "
      ]
     },
     "execution_count": 86,
     "metadata": {},
     "output_type": "execute_result"
    }
   ],
   "source": [
    "um.head()"
   ]
  },
  {
   "cell_type": "code",
   "execution_count": 230,
   "metadata": {
    "collapsed": false
   },
   "outputs": [
    {
     "data": {
      "text/html": [
       "<div>\n",
       "<table border=\"1\" class=\"dataframe\">\n",
       "  <thead>\n",
       "    <tr style=\"text-align: right;\">\n",
       "      <th></th>\n",
       "      <th>SpeakerLastName</th>\n",
       "      <th>SpeakerFirstName</th>\n",
       "      <th>SpeakerMiddle</th>\n",
       "      <th>SpeakerBio</th>\n",
       "      <th>speaker</th>\n",
       "      <th>bio</th>\n",
       "      <th>biotext</th>\n",
       "    </tr>\n",
       "  </thead>\n",
       "  <tbody>\n",
       "    <tr>\n",
       "      <th>0</th>\n",
       "      <td>Abendroth</td>\n",
       "      <td>Thomas</td>\n",
       "      <td>W.</td>\n",
       "      <td>Abendroth_Bio2018.pdf</td>\n",
       "      <td>Thomas W. Abendroth</td>\n",
       "      <td>Abendroth_Bio2018.html</td>\n",
       "      <td></td>\n",
       "    </tr>\n",
       "    <tr>\n",
       "      <th>1</th>\n",
       "      <td>Aghdami</td>\n",
       "      <td>Farhad</td>\n",
       "      <td></td>\n",
       "      <td>Aghdami_Bio2018.pdf</td>\n",
       "      <td>Farhad Aghdami</td>\n",
       "      <td>Aghdami_Bio2018.html</td>\n",
       "      <td></td>\n",
       "    </tr>\n",
       "    <tr>\n",
       "      <th>2</th>\n",
       "      <td>Akers</td>\n",
       "      <td>Steve</td>\n",
       "      <td>R.</td>\n",
       "      <td>Akers_Bio2018.pdf</td>\n",
       "      <td>Steve R. Akers</td>\n",
       "      <td>Akers_Bio2018.html</td>\n",
       "      <td></td>\n",
       "    </tr>\n",
       "    <tr>\n",
       "      <th>3</th>\n",
       "      <td>Anderson</td>\n",
       "      <td>Alec</td>\n",
       "      <td>R.</td>\n",
       "      <td>Anderson_Bio2018.pdf</td>\n",
       "      <td>Alec R. Anderson</td>\n",
       "      <td>Anderson_Bio2018.html</td>\n",
       "      <td></td>\n",
       "    </tr>\n",
       "    <tr>\n",
       "      <th>4</th>\n",
       "      <td>Angkatavanich</td>\n",
       "      <td>N.</td>\n",
       "      <td>Todd</td>\n",
       "      <td>Angkatavanich_Bio2018.pdf</td>\n",
       "      <td>N. Todd Angkatavanich</td>\n",
       "      <td>Angkatavanich_Bio2018.html</td>\n",
       "      <td></td>\n",
       "    </tr>\n",
       "  </tbody>\n",
       "</table>\n",
       "</div>"
      ],
      "text/plain": [
       "  SpeakerLastName SpeakerFirstName SpeakerMiddle                 SpeakerBio  \\\n",
       "0       Abendroth           Thomas            W.      Abendroth_Bio2018.pdf   \n",
       "1         Aghdami           Farhad                      Aghdami_Bio2018.pdf   \n",
       "2           Akers            Steve            R.          Akers_Bio2018.pdf   \n",
       "3        Anderson             Alec            R.       Anderson_Bio2018.pdf   \n",
       "4   Angkatavanich               N.          Todd  Angkatavanich_Bio2018.pdf   \n",
       "\n",
       "                 speaker                         bio biotext  \n",
       "0    Thomas W. Abendroth      Abendroth_Bio2018.html          \n",
       "1         Farhad Aghdami        Aghdami_Bio2018.html          \n",
       "2         Steve R. Akers          Akers_Bio2018.html          \n",
       "3       Alec R. Anderson       Anderson_Bio2018.html          \n",
       "4  N. Todd Angkatavanich  Angkatavanich_Bio2018.html          "
      ]
     },
     "execution_count": 230,
     "metadata": {},
     "output_type": "execute_result"
    }
   ],
   "source": [
    "speak.head()"
   ]
  },
  {
   "cell_type": "code",
   "execution_count": 83,
   "metadata": {
    "collapsed": true
   },
   "outputs": [
    {
     "data": {
      "text/plain": [
       "[[],\n",
       " [],\n",
       " [u'Stephanie Loomis- Price', u'Samuel A. Donaldson', u'Ivan Taback'],\n",
       " [],\n",
       " [],\n",
       " [u'Tina Portuondo, Director, Heckerling Institute',\n",
       "  u'Patricia D. White, Dean, University of Miami School of Law'],\n",
       " [u'Carol A. Harrington',\n",
       "  u'Steve R. Akers',\n",
       "  u'Jeffrey N. Pennell',\n",
       "  u'Materials by: Steve R. Akers, Samuel A. Donaldson, Charles D. \"Skip\" Fox, IV, Jeffrey N. Pennell, and Howard M. Zaritsky',\n",
       "  u'Edited by: Ronald D. Aucutt'],\n",
       " [],\n",
       " [],\n",
       " [u'Paul S. Lee'],\n",
       " [u'Thomas W. Abendroth'],\n",
       " [],\n",
       " [u'Diana S.C. Zeydel'],\n",
       " [u'Trevor Potter'],\n",
       " [],\n",
       " [u'S. Andrew Pharies'],\n",
       " [u'Louis A. Mezzullo'],\n",
       " [],\n",
       " [u'Martin Hall'],\n",
       " [u'Terrence M. Franklin'],\n",
       " [u'Bernard A. Krooks'],\n",
       " [u'M. Read Moore'],\n",
       " [],\n",
       " [u'Carol A. Harrington', u'Steve R. Akers', u'Jeffrey N. Pennell'],\n",
       " [],\n",
       " [u'Alan S. Halperin', u'Amy E. Heller'],\n",
       " [u'Paul S. Lee', u'Turney P. Berry', u'Ellen K. Harrison'],\n",
       " [u'Louis A. Mezzullo', u'Nancy G. Henderson'],\n",
       " [u'M. Read Moore', u'Alec R. Anderson'],\n",
       " [u'Dana G. Fitzsimons, Jr.'],\n",
       " [u'Katherine N. Barr', u'Kristen M. Lewis', u'James M. McCarten'],\n",
       " [u'Martin Hall', u'Erik Dryburgh', u'Michele A.W. McKinnon'],\n",
       " [],\n",
       " [u'Diana S.C. Zeydel', u'Todd A. Flubacher', u'Barry F. Spivey'],\n",
       " [u'Thomas W. Abendroth', u'Robert R. Pluth, Jr.'],\n",
       " [u'Bruce M. Stone', u'Eliam Medina', u'Suzanne Brown Walsh'],\n",
       " [u'Bernard A. Krooks', u'Robert B. Fleming', u'Lawrence A. Frolik'],\n",
       " [u'S. Andrew Pharies', u'David A. Baker', u'Jo Ann Engelhardt'],\n",
       " [u'Linda J. Wank', u'Edward H. Rosenthal', u'David Sleeman'],\n",
       " [u'Joshua S. Rubenstein'],\n",
       " [u'Robert H. Sitkoff'],\n",
       " [],\n",
       " [u'Michele A.W. McKinnon'],\n",
       " [u'Farhad Aghdami'],\n",
       " [],\n",
       " [u'N. Todd Angkatavanich',\n",
       "  u'Scott A. Bowman',\n",
       "  u'Carlyn S. McCaffrey',\n",
       "  u'Edward Vergara'],\n",
       " [u'Robert H. Sitkoff',\n",
       "  u'Turney P. Berry',\n",
       "  u'James M. Marion',\n",
       "  u'Susan D. Snyder'],\n",
       " [u'Daniel S. Rubin', u'Terrence M. Franklin', u'Michael M. Gordon'],\n",
       " [u'Lawrence Brody', u'Mary Ann Mancini', u'Charles L. Ratner'],\n",
       " [u'Michele A.W. McKinnon'],\n",
       " [u'Charles D. \"Skip\" Fox, IV', u'J. Lee E. Osborne', u'Mary F. Radford'],\n",
       " [u'Linda M. Doyle', u'Elizabeth A. Quinn'],\n",
       " [],\n",
       " [u'Natalie B. Choate'],\n",
       " [u'Joshua S. Rubenstein', u'Scott T. Ditman'],\n",
       " [u'Farhad Aghdami', u'Sarah Moore Johnson'],\n",
       " [u'Amy K. Kanyuk', u'William T. Hennessey', u'R. Hugh Magill'],\n",
       " [u'Steven K. Mignogna',\n",
       "  u'Jo Ann Engelhardt',\n",
       "  u'Terrence M. Franklin',\n",
       "  u'Richard W. Nenno',\n",
       "  u'Robert D. Steele'],\n",
       " [u'Natalie B. Choate'],\n",
       " [u'Amy K. Kanyuk'],\n",
       " [],\n",
       " [u'Jonathan G. Blattmachr', u'Martin Shenkman']]"
      ]
     },
     "execution_count": 83,
     "metadata": {},
     "output_type": "execute_result"
    }
   ],
   "source": [
    "#print um[um.columns[7:12]].values.tolist()\n",
    "um[um.columns[7:12]].applymap(lambda x: [x] if (x != '') else []).sum(1).tolist()\n",
    "#um[um.columns[7:12]].applymap(lambda x: [x] if pd.notnull(x) else []).sum(1).tolist()\n",
    "#arr = um[um.columns[7:12]].apply(lambda x: x.values.tolist() if x.value != '' else x)"
   ]
  },
  {
   "cell_type": "code",
   "execution_count": 197,
   "metadata": {
    "collapsed": true
   },
   "outputs": [
    {
     "name": "stdout",
     "output_type": "stream",
     "text": [
      "<p>Terrence M. Franklin</p>\n",
      "<p>Sacks, Glazier, Franklin &amp; Lodise LLP</p>\n",
      "<p>Los Angeles, California</p>\n",
      "<p>________________________________</p>\n",
      "<p>Terrence M. Franklin (“Terry”), Partner at Sacks Glazier Franklin &amp; Lodise, is a seasoned attorney with nearly a quarter century of experience handling trust and estates and probate litigation, disputes and appeals.</p>\n",
      "<p>Terry has extensive trial and appellate experience, including successful published appeals and the landmark <em>Moeller</em> case, which was brought before the California Supreme Court. 16 Cal. 4<sup>th</sup> 1124.</p>\n",
      "<p>An active member of the trusts and estates legal community, Terry serves as Vice-Chair of the Diversity and Inclusivity Committee of the American College of Trust and Estate Counsel (ACTEC). In addition, Terry serves on the Board of Regents of ACTEC, the California Membership Committee, and the Fiduciary Litigation Committee.</p>\n",
      "<p>Terry is a member of the Diversity Committee of the American Bar Association (ABA) Real Property, Trust and Estate Section; a former Council Member and Supervisory Council Member for the Litigation, Ethics and Malpractice Group; a Former Vice Chair of the Practice Group Management; and Former Chair of the Ethics and Malpractice Committee.</p>\n",
      "<p>Terry is frequently called upon as a speaker to national, state and local estate planning, trust, and probate groups, such as ACTEC, ABA Real Property Trust and Estate Law Section, and USC Trust and Estate Conference, where he is also a long-standing Planning Committee member.</p>\n",
      "<p>Terry has been named to the list of <em>Southern California Super Lawyers</em> every year since 2005, and has been included on the list of the <em>Best Lawyers in America</em> every year since 2011.</p>\n",
      "<p>Admitted to practice in California, Terry is a graduate of Harvard Law School and obtained his Bachelors of Science from Northwestern University. Prior to Sacks Glazier Franklin &amp; Lodise, he practiced with the Los Angeles office of Morrison &amp; Foerster and as a partner at Ross, Sacks &amp; Glazier, LLP.</p>\n",
      "\n"
     ]
    }
   ],
   "source": [
    "#pd.read_csv('Franklin_Bio2018.html')\n",
    "\n",
    "f = open('Franklin_Bio2018.html','r')\n",
    "message = f.read()\n",
    "print(message)\n",
    "f.close()\n",
    "\n",
    "speak['biotext'] = message"
   ]
  },
  {
   "cell_type": "code",
   "execution_count": 226,
   "metadata": {
    "collapsed": false
   },
   "outputs": [],
   "source": [
    "bx = []\n",
    "for sp in speak.bio:\n",
    "    if os.path.isfile(sp):\n",
    "        f = open(str(sp),'r')\n",
    "        message = f.read()\n",
    "        #print(message)\n",
    "        f.close()\n",
    "        bx.append(message)\n",
    "    else:\n",
    "        bx.append('')\n",
    "\n",
    "speak['biotext'] = bx    \n",
    "  "
   ]
  },
  {
   "cell_type": "code",
   "execution_count": 193,
   "metadata": {
    "collapsed": false
   },
   "outputs": [
    {
     "name": "stdout",
     "output_type": "stream",
     "text": [
      "[<class 'pandas.core.frame.DataFrame'>]\n"
     ]
    }
   ],
   "source": [
    "print bx"
   ]
  },
  {
   "cell_type": "code",
   "execution_count": null,
   "metadata": {
    "collapsed": true
   },
   "outputs": [],
   "source": []
  }
 ],
 "metadata": {
  "anaconda-cloud": {},
  "kernelspec": {
   "display_name": "Python [Root]",
   "language": "python",
   "name": "Python [Root]"
  },
  "language_info": {
   "codemirror_mode": {
    "name": "ipython",
    "version": 2
   },
   "file_extension": ".py",
   "mimetype": "text/x-python",
   "name": "python",
   "nbconvert_exporter": "python",
   "pygments_lexer": "ipython2",
   "version": "2.7.12"
  }
 },
 "nbformat": 4,
 "nbformat_minor": 0
}
