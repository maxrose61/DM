{
 "cells": [
  {
   "cell_type": "code",
   "execution_count": 1,
   "metadata": {
    "collapsed": false
   },
   "outputs": [],
   "source": [
    "# -*- coding: utf-8 -*-\n",
    "import pyodbc\n",
    "import pandas as pd\n",
    "import numpy as np\n",
    "import os.path\n",
    "import uuid\n",
    "import re\n",
    "#from datetime import time\n",
    "%matplotlib inline\n",
    "\n"
   ]
  },
  {
   "cell_type": "code",
   "execution_count": 2,
   "metadata": {
    "collapsed": false
   },
   "outputs": [],
   "source": [
    "um = pd.read_excel('52nd Heckerling Institute USB.xlsx', sheetname='Sessions', header=0,)\n",
    "speak = pd.read_excel('52nd Heckerling Institute USB.xlsx', sheetname='Speakers', header=0 )\n",
    "#print um.dtypes\n",
    "speak = speak.apply(lambda x: x.str.strip() if x.dtype == \"object\" else x)\n",
    "speak['bio'] = speak.SpeakerBio.str.replace('.pdf', '.html')\n",
    "um = um.fillna('')\n",
    "speak = speak.fillna('')\n",
    "um['speakers'] = um[um.columns[7:13]].applymap(lambda x: [x] if (x != '') else []).sum(1).tolist()\n",
    "uid = []\n",
    "for row in um['ProgramTitle']:\n",
    "    uid.append(uuid.uuid4())\n",
    "um['UID'] = uid\n",
    "um['UID'] = um['UID'].astype(str)\n",
    "cols = um[um.columns[7:13]]\n",
    "um.drop(cols, axis=1, inplace = True)\n",
    "#um = um.apply(lambda x: x.str.strip() if x.dtype == \"object\" else x)"
   ]
  },
  {
   "cell_type": "code",
   "execution_count": 5,
   "metadata": {
    "collapsed": false
   },
   "outputs": [],
   "source": [
    "# read in biographies from html.\n",
    "bx = []\n",
    "for sp in speak.bio:\n",
    "    if os.path.isfile(sp):\n",
    "        f = open(str(sp),'r')\n",
    "        message = f.read()\n",
    "        #print(message)\n",
    "        f.close()\n",
    "        bx.append(message)\n",
    "    else:\n",
    "        bx.append('')\n",
    "speak['biotext'] = bx  \n",
    "speak['biotext'] = speak.biotext.str.replace(r\"\\n  <title.+/title>\", \"\")\n",
    "#speak['biotext'] = speak.biotext.str.replace(r\"</p>\", \"</p><br>\")\n",
    "\n",
    "# Concatenate speaker full name to \"speaker\" column for matching purposes.\n",
    "cat = []\n",
    "for row in speak.itertuples():\n",
    "    if row.SpeakerMiddle:\n",
    "        cat.append(row.SpeakerFirstName + ' ' + row.SpeakerMiddle + ' ' + row.SpeakerLastName)\n",
    "    else:\n",
    "        cat.append(row.SpeakerFirstName  + ' ' + row.SpeakerLastName)\n",
    "        \n",
    "speak['speaker'] = cat\n"
   ]
  },
  {
   "cell_type": "code",
   "execution_count": 4,
   "metadata": {
    "collapsed": true
   },
   "outputs": [],
   "source": [
    "um.to_json('umtest.json',orient='records',date_format='iso' )"
   ]
  },
  {
   "cell_type": "code",
   "execution_count": 6,
   "metadata": {
    "collapsed": false
   },
   "outputs": [],
   "source": [
    "speak.to_json('speakers.json',orient='records' )"
   ]
  },
  {
   "cell_type": "code",
   "execution_count": 14,
   "metadata": {
    "collapsed": false
   },
   "outputs": [
    {
     "data": {
      "text/plain": [
       "18    <!DOCTYPE html PUBLIC \"-//W3C//DTD HTML 4.01//...\n",
       "19    <!DOCTYPE html PUBLIC \"-//W3C//DTD HTML 4.01//...\n",
       "Name: biotext, dtype: object"
      ]
     },
     "execution_count": 14,
     "metadata": {},
     "output_type": "execute_result"
    }
   ],
   "source": [
    "speak.biotext[18:20]"
   ]
  },
  {
   "cell_type": "code",
   "execution_count": null,
   "metadata": {
    "collapsed": true
   },
   "outputs": [],
   "source": []
  }
 ],
 "metadata": {
  "anaconda-cloud": {},
  "kernelspec": {
   "display_name": "Python [Root]",
   "language": "python",
   "name": "Python [Root]"
  },
  "language_info": {
   "codemirror_mode": {
    "name": "ipython",
    "version": 2
   },
   "file_extension": ".py",
   "mimetype": "text/x-python",
   "name": "python",
   "nbconvert_exporter": "python",
   "pygments_lexer": "ipython2",
   "version": "2.7.12"
  }
 },
 "nbformat": 4,
 "nbformat_minor": 0
}
