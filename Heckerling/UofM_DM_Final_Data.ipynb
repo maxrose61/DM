{
 "cells": [
  {
   "cell_type": "code",
   "execution_count": 1,
   "metadata": {
    "collapsed": false
   },
   "outputs": [],
   "source": [
    "# -*- coding: utf-8 -*-\n",
    "import pyodbc\n",
    "import pandas as pd\n",
    "import numpy as np\n",
    "import os.path\n",
    "import uuid\n",
    "#from datetime import time\n",
    "%matplotlib inline\n",
    "\n"
   ]
  },
  {
   "cell_type": "code",
   "execution_count": 6,
   "metadata": {
    "collapsed": false
   },
   "outputs": [],
   "source": [
    "um = pd.read_excel('52nd Heckerling Institute USB.xlsx', sheetname='Sessions', header=0,)\n",
    "speak = pd.read_excel('52nd Heckerling Institute USB.xlsx', sheetname='Speakers', header=0 )\n",
    "#print um.dtypes\n",
    "speak = speak.apply(lambda x: x.str.strip() if x.dtype == \"object\" else x)\n",
    "speak['bio'] = speak.SpeakerBio.str.replace('.pdf', '.html')\n",
    "um = um.fillna('')\n",
    "speak = speak.fillna('')\n",
    "um['speakers'] = um[um.columns[7:13]].applymap(lambda x: [x] if (x != '') else []).sum(1).tolist()\n",
    "uid = []\n",
    "for row in um['ProgramTitle']:\n",
    "    uid.append(uuid.uuid4())\n",
    "um['UID'] = uid\n",
    "um['UID'] = um['UID'].astype(str)\n",
    "cols = um[um.columns[7:13]]\n",
    "um.drop(cols, axis=1, inplace = True)\n",
    "#um = um.apply(lambda x: x.str.strip() if x.dtype == \"object\" else x)"
   ]
  },
  {
   "cell_type": "code",
   "execution_count": 10,
   "metadata": {
    "collapsed": false
   },
   "outputs": [],
   "source": [
    "# read in biographies from html.\n",
    "bx = []\n",
    "for sp in speak.bio:\n",
    "    if os.path.isfile(sp):\n",
    "        f = open(str(sp),'r')\n",
    "        message = f.read()\n",
    "        #print(message)\n",
    "        f.close()\n",
    "        bx.append(message)\n",
    "    else:\n",
    "        bx.append('')\n",
    "speak['biotext'] = bx  \n",
    "\n",
    "# Concatenate speaker full name to \"speaker\" column for matching purposes.\n",
    "cat = []\n",
    "for row in speak.itertuples():\n",
    "    if row.SpeakerMiddle:\n",
    "        cat.append(row.SpeakerFirstName + ' ' + row.SpeakerMiddle + ' ' + row.SpeakerLastName)\n",
    "    else:\n",
    "        cat.append(row.SpeakerFirstName  + ' ' + row.SpeakerLastName)\n",
    "        \n",
    "speak['speaker'] = cat\n"
   ]
  },
  {
   "cell_type": "code",
   "execution_count": 7,
   "metadata": {
    "collapsed": true
   },
   "outputs": [],
   "source": [
    "um.to_json('umtest.json',orient='records',date_format='iso' )"
   ]
  },
  {
   "cell_type": "code",
   "execution_count": null,
   "metadata": {
    "collapsed": false
   },
   "outputs": [],
   "source": [
    "speak.to_json('speakers.json',orient='records' )"
   ]
  },
  {
   "cell_type": "code",
   "execution_count": 16,
   "metadata": {
    "collapsed": false
   },
   "outputs": [
    {
     "data": {
      "text/html": [
       "<div>\n",
       "<table border=\"1\" class=\"dataframe\">\n",
       "  <thead>\n",
       "    <tr style=\"text-align: right;\">\n",
       "      <th></th>\n",
       "      <th>SpeakerLastName</th>\n",
       "      <th>SpeakerFirstName</th>\n",
       "      <th>SpeakerMiddle</th>\n",
       "      <th>SpeakerBio</th>\n",
       "      <th>bio</th>\n",
       "      <th>biotext</th>\n",
       "      <th>speaker</th>\n",
       "    </tr>\n",
       "  </thead>\n",
       "  <tbody>\n",
       "    <tr>\n",
       "      <th>50</th>\n",
       "      <td>Pharies</td>\n",
       "      <td>S.</td>\n",
       "      <td>Andrew</td>\n",
       "      <td>Pharies_Bio2018.pdf</td>\n",
       "      <td>Pharies_Bio2018.html</td>\n",
       "      <td>&lt;!DOCTYPE html PUBLIC \"-//W3C//DTD HTML 4.01//...</td>\n",
       "      <td>S. Andrew Pharies</td>\n",
       "    </tr>\n",
       "    <tr>\n",
       "      <th>51</th>\n",
       "      <td>Pluth, Jr.</td>\n",
       "      <td>Robert</td>\n",
       "      <td>R.</td>\n",
       "      <td>Pluth_Bio2018.pdf</td>\n",
       "      <td>Pluth_Bio2018.html</td>\n",
       "      <td>&lt;!DOCTYPE html PUBLIC \"-//W3C//DTD HTML 4.01//...</td>\n",
       "      <td>Robert R. Pluth, Jr.</td>\n",
       "    </tr>\n",
       "  </tbody>\n",
       "</table>\n",
       "</div>"
      ],
      "text/plain": [
       "   SpeakerLastName SpeakerFirstName SpeakerMiddle           SpeakerBio  \\\n",
       "50         Pharies               S.        Andrew  Pharies_Bio2018.pdf   \n",
       "51      Pluth, Jr.           Robert            R.    Pluth_Bio2018.pdf   \n",
       "\n",
       "                     bio                                            biotext  \\\n",
       "50  Pharies_Bio2018.html  <!DOCTYPE html PUBLIC \"-//W3C//DTD HTML 4.01//...   \n",
       "51    Pluth_Bio2018.html  <!DOCTYPE html PUBLIC \"-//W3C//DTD HTML 4.01//...   \n",
       "\n",
       "                 speaker  \n",
       "50     S. Andrew Pharies  \n",
       "51  Robert R. Pluth, Jr.  "
      ]
     },
     "execution_count": 16,
     "metadata": {},
     "output_type": "execute_result"
    }
   ],
   "source": [
    "speak[50:52]"
   ]
  },
  {
   "cell_type": "code",
   "execution_count": null,
   "metadata": {
    "collapsed": false
   },
   "outputs": [],
   "source": [
    "um.head()"
   ]
  }
 ],
 "metadata": {
  "anaconda-cloud": {},
  "kernelspec": {
   "display_name": "Python [Root]",
   "language": "python",
   "name": "Python [Root]"
  },
  "language_info": {
   "codemirror_mode": {
    "name": "ipython",
    "version": 2
   },
   "file_extension": ".py",
   "mimetype": "text/x-python",
   "name": "python",
   "nbconvert_exporter": "python",
   "pygments_lexer": "ipython2",
   "version": "2.7.12"
  }
 },
 "nbformat": 4,
 "nbformat_minor": 0
}
