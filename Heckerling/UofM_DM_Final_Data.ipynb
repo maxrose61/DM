{
 "cells": [
  {
   "cell_type": "code",
   "execution_count": 9,
   "metadata": {
    "collapsed": false
   },
   "outputs": [],
   "source": [
    "# -*- coding: utf-8 -*-\n",
    "import pyodbc\n",
    "import pandas as pd\n",
    "import numpy as np\n",
    "import os.path\n",
    "import uuid\n",
    "import re\n",
    "#from datetime import time\n",
    "%matplotlib inline\n",
    "\n"
   ]
  },
  {
   "cell_type": "code",
   "execution_count": 48,
   "metadata": {
    "collapsed": false
   },
   "outputs": [],
   "source": [
    "um = pd.read_excel('52nd Heckerling Institute USB.xlsx', sheetname='Sessions', header=0,)\n",
    "speak = pd.read_excel('52nd Heckerling Institute USB.xlsx', sheetname='Speakers', header=0 )\n",
    "#print um.dtypes\n",
    "speak = speak.apply(lambda x: x.str.strip() if x.dtype == \"object\" else x)\n",
    "speak['bio'] = speak.SpeakerBio.str.replace('.pdf', '.html')\n",
    "um = um.fillna('')\n",
    "speak = speak.fillna('')\n",
    "um['speakers'] = um[um.columns[7:13]].applymap(lambda x: [x] if (x != '') else []).sum(1).tolist()\n",
    "uid = []\n",
    "for row in um['ProgramTitle']:\n",
    "    uid.append(uuid.uuid4())\n",
    "um['UID'] = uid\n",
    "um['UID'] = um['UID'].astype(str)\n",
    "cols = um[um.columns[7:13]]\n",
    "um.drop(cols, axis=1, inplace = True)\n",
    "#um = um.apply(lambda x: x.str.strip() if x.dtype == \"object\" else x)"
   ]
  },
  {
   "cell_type": "code",
   "execution_count": 43,
   "metadata": {
    "collapsed": false
   },
   "outputs": [],
   "source": [
    "# read in biographies from html.\n",
    "bx = []\n",
    "for sp in speak.bio:\n",
    "    if os.path.isfile(sp):\n",
    "        f = open(str(sp),'r')\n",
    "        message = f.read()\n",
    "        #print(message)\n",
    "        f.close()\n",
    "        bx.append(message)\n",
    "    else:\n",
    "        bx.append('')\n",
    "speak['biotext'] = bx  \n",
    "speak['biotext'] = speak.biotext.str.replace(r\"\\n  <title.+/title>\", \"\")\n",
    "\n",
    "# Concatenate speaker full name to \"speaker\" column for matching purposes.\n",
    "cat = []\n",
    "for row in speak.itertuples():\n",
    "    if row.SpeakerMiddle:\n",
    "        cat.append(row.SpeakerFirstName + ' ' + row.SpeakerMiddle + ' ' + row.SpeakerLastName)\n",
    "    else:\n",
    "        cat.append(row.SpeakerFirstName  + ' ' + row.SpeakerLastName)\n",
    "        \n",
    "speak['speaker'] = cat\n"
   ]
  },
  {
   "cell_type": "code",
   "execution_count": 49,
   "metadata": {
    "collapsed": true
   },
   "outputs": [],
   "source": [
    "um.to_json('umtest.json',orient='records',date_format='iso' )"
   ]
  },
  {
   "cell_type": "code",
   "execution_count": 45,
   "metadata": {
    "collapsed": false
   },
   "outputs": [],
   "source": [
    "speak.to_json('speakers.json',orient='records' )"
   ]
  },
  {
   "cell_type": "code",
   "execution_count": 44,
   "metadata": {
    "collapsed": true
   },
   "outputs": [
    {
     "data": {
      "text/plain": [
       "'<!DOCTYPE html PUBLIC \"-//W3C//DTD HTML 4.01//EN\" \"http://www.w3.org/TR/html4/strict.dtd\">\\n<html>\\n<head>\\n  <meta http-equiv=\"Content-Type\" content=\"text/html; charset=utf-8\">\\n  <meta http-equiv=\"Content-Style-Type\" content=\"text/css\">\\n  <meta name=\"Author\" content=\"Huffman, Jennifer\\x00\\x00\">\\n  <meta name=\"LastAuthor\" content=\"Huffman, Jennifer\\x00\\x00\">\\n  <meta name=\"Company\" content=\"Microsoft\\x00\\x00\">\\n  <meta name=\"Subject\" content=\" \\x00\\x00\">\\n  <meta name=\"Keywords\" content=\" \\x00\\x00\">\\n  <meta name=\"CreationTime\" content=\"2017-07-26T10:53:00Z\">\\n  <meta name=\"ModificationTime\" content=\"2017-07-26T10:53:00Z\">\\n  <meta name=\"Generator\" content=\"Cocoa HTML Writer\">\\n  <meta name=\"CocoaVersion\" content=\"1348.17\">\\n  <style type=\"text/css\">\\n    p.p1 {margin: 0.0px 0.0px 0.0px 0.0px; text-align: center; font: 12.0px \\'Times New Roman\\'; color: #000000}\\n    p.p2 {margin: 0.0px 0.0px 0.0px 0.0px; text-align: center; line-height: 23.0px; font: 12.0px \\'Times New Roman\\'}\\n    p.p3 {margin: 0.0px 28.8px 0.0px 0.0px; text-align: justify; line-height: 23.0px; font: 12.0px \\'Times New Roman\\'; min-height: 11.0px}\\n    p.p4 {margin: 0.0px 0.0px 0.0px 0.0px; text-align: justify; line-height: 23.0px; font: 12.0px \\'Times New Roman\\'; color: #000000}\\n    p.p5 {margin: 0.0px 0.0px 0.0px 0.0px; text-align: justify; line-height: 23.0px; font: 12.0px \\'Book Antiqua\\'; min-height: 12.0px}\\n    p.p6 {margin: 0.0px 0.0px 0.0px 0.0px; line-height: 23.0px; font: 12.0px \\'Book Antiqua\\'; min-height: 12.0px}\\n    p.p7 {margin: 0.0px 0.0px 0.0px 0.0px; line-height: 23.0px; font: 12.0px \\'Times New Roman\\'; min-height: 15.0px}\\n    p.p8 {margin: 0.0px 0.0px 0.0px 0.0px; font: 12.0px \\'Times New Roman\\'; min-height: 15.0px}\\n  </style>\\n</head>\\n<body>\\n<p class=\"p1\">Charles D. (\\xe2\\x80\\x9cSkip\\xe2\\x80\\x9d) Fox IV</p>\\n<p class=\"p1\">McGuireWoods LLP</p>\\n<p class=\"p1\">Charlottesville, Virginia</p>\\n<p class=\"p2\">_______________________________</p>\\n<p class=\"p3\"><br></p>\\n<p class=\"p4\">Skip Fox is a partner in the Charlottesville office of McGuireWoods LLP and chair of the firm\\xe2\\x80\\x99s Tax and Employee Benefits Department. Skip concentrates his practice in estate planning, estate administration, trust law, and charitable organizations.<span class=\"Apple-converted-space\">\\xc2\\xa0 </span>Skip has been on the faculty of the American Bankers Association\\xe2\\x80\\x99s National Trust School and National Graduate Trust School since 1987. He was an Adjunct Professor at Northwestern University School of Law where he taught from 1983 to 2005 and has been an Adjunct Professor at the University of Virginia School of Law since 2006. He speaks extensively around the country on estate planning topics and is the co-presenter of the long-running monthly teleconference series on estate planning and fiduciary law issues sponsored by the American Bankers Association. Skip has contributed articles to numerous publications and is a regular columnist for the <i>ABA Trust Newsletter </i>on tax matters.<span class=\"Apple-converted-space\">\\xc2\\xa0 </span>He is the author or co-author of seven books on estate planning topics.<span class=\"Apple-converted-space\">\\xc2\\xa0 </span>Skip is a Fellow and President-Elect of the American College of Trust and Estate Counsel.<span class=\"Apple-converted-space\">\\xc2\\xa0 </span>Skip received his A.B. from Princeton, his M.A. from Yale, and his J.D. from the University of Virginia.<span class=\"Apple-converted-space\">\\xc2\\xa0 </span>Skip\\xe2\\x80\\x99s wife, Beth, is a retired trust officer and they have two sons, Quent and Elm.</p>\\n<p class=\"p5\"><br></p>\\n<p class=\"p6\"><br></p>\\n<p class=\"p7\"><br></p>\\n<p class=\"p8\"><br></p>\\n<p class=\"p8\"><br></p>\\n<p class=\"p8\"><br></p>\\n<p class=\"p8\"><br></p>\\n<p class=\"p8\"><br></p>\\n<p class=\"p8\"><br></p>\\n<p class=\"p8\"><br></p>\\n<p class=\"p8\"><br></p>\\n<p class=\"p8\"><br></p>\\n<p class=\"p7\"><br></p>\\n</body>\\n</html>\\n'"
      ]
     },
     "execution_count": 44,
     "metadata": {},
     "output_type": "execute_result"
    }
   ],
   "source": [
    "speak.biotext[20]"
   ]
  },
  {
   "cell_type": "code",
   "execution_count": null,
   "metadata": {
    "collapsed": true
   },
   "outputs": [],
   "source": []
  }
 ],
 "metadata": {
  "anaconda-cloud": {},
  "kernelspec": {
   "display_name": "Python [Root]",
   "language": "python",
   "name": "Python [Root]"
  },
  "language_info": {
   "codemirror_mode": {
    "name": "ipython",
    "version": 2
   },
   "file_extension": ".py",
   "mimetype": "text/x-python",
   "name": "python",
   "nbconvert_exporter": "python",
   "pygments_lexer": "ipython2",
   "version": "2.7.12"
  }
 },
 "nbformat": 4,
 "nbformat_minor": 0
}
