{
 "cells": [
  {
   "cell_type": "code",
   "execution_count": 253,
   "metadata": {
    "collapsed": false
   },
   "outputs": [],
   "source": [
    "import pyodbc\n",
    "import pandas as pd\n",
    "import numpy as np\n",
    "import os.path\n",
    "#from datetime import time\n",
    "%matplotlib inline\n"
   ]
  },
  {
   "cell_type": "code",
   "execution_count": 256,
   "metadata": {
    "collapsed": false
   },
   "outputs": [],
   "source": [
    "um = pd.read_excel('UM_2.xlsx', sheetname='Sessions', header=0)\n",
    "speak = pd.read_excel('UM_2.xlsx', sheetname='Speakers', header=0)\n",
    "#um = um.apply(lambda x: x.str.strip() if x.dtype == \"object\" else x)\n",
    "speak = speak.apply(lambda x: x.str.strip() if x.dtype == \"object\" else x)\n",
    "speak['speaker'] = speak.SpeakerFirstName + ' ' + speak.SpeakerMiddle + ' ' + speak.SpeakerLastName\n",
    "#um = um.fillna('')\n",
    "speak = speak.fillna('')\n",
    "um['speakers'] = um[um.columns[7:12]].applymap(lambda x: [x] if (x != '') else []).sum(1).tolist()"
   ]
  },
  {
   "cell_type": "markdown",
   "metadata": {
    "collapsed": false
   },
   "source": []
  },
  {
   "cell_type": "code",
   "execution_count": 15,
   "metadata": {
    "collapsed": false
   },
   "outputs": [],
   "source": [
    "speak = speak.apply(lambda x: x.str.strip() if x.dtype == \"object\" else x)\n",
    "speak['speaker'] = speak.SpeakerFirstName + ' ' + speak.SpeakerMiddle + ' ' + speak.SpeakerLastName"
   ]
  },
  {
   "cell_type": "code",
   "execution_count": 95,
   "metadata": {
    "collapsed": false
   },
   "outputs": [],
   "source": [
    "speak['bio'] = speak.SpeakerBio.str.replace('.pdf', '.html')"
   ]
  },
  {
   "cell_type": "code",
   "execution_count": 13,
   "metadata": {
    "collapsed": true
   },
   "outputs": [],
   "source": [
    "um.to_json('umtest.json',orient='records',date_format='iso' )"
   ]
  },
  {
   "cell_type": "code",
   "execution_count": 22,
   "metadata": {
    "collapsed": true
   },
   "outputs": [
    {
     "name": "stdout",
     "output_type": "stream",
     "text": [
      "1970-01-01 00:00:00\n",
      "1970-01-01 00:00:00\n",
      "1970-01-01 00:00:00\n",
      "1970-01-01 00:00:00\n",
      "1970-01-01 00:00:00\n",
      "1970-01-01 00:00:00\n",
      "1970-01-01 00:00:00\n",
      "1970-01-01 00:00:00\n",
      "1970-01-01 00:00:00\n",
      "1970-01-01 00:00:00\n",
      "1970-01-01 00:00:00\n",
      "1970-01-01 00:00:00\n",
      "1970-01-01 00:00:00\n",
      "1970-01-01 00:00:00\n",
      "1970-01-01 00:00:00\n",
      "1970-01-01 00:00:00\n",
      "1970-01-01 00:00:00\n",
      "1970-01-01 00:00:00\n",
      "1970-01-01 00:00:00\n",
      "1970-01-01 00:00:00\n",
      "1970-01-01 00:00:00\n",
      "1970-01-01 00:00:00\n",
      "1970-01-01 00:00:00\n",
      "1970-01-01 00:00:00\n",
      "1970-01-01 00:00:00\n",
      "1970-01-01 00:00:00\n",
      "1970-01-01 00:00:00\n",
      "1970-01-01 00:00:00\n",
      "1970-01-01 00:00:00\n",
      "1970-01-01 00:00:00\n",
      "1970-01-01 00:00:00\n",
      "1970-01-01 00:00:00\n",
      "1970-01-01 00:00:00\n",
      "1970-01-01 00:00:00\n",
      "1970-01-01 00:00:00\n",
      "1970-01-01 00:00:00\n",
      "1970-01-01 00:00:00\n",
      "1970-01-01 00:00:00\n",
      "1970-01-01 00:00:00\n",
      "1970-01-01 00:00:00\n",
      "1970-01-01 00:00:00\n",
      "1970-01-01 00:00:00\n",
      "1970-01-01 00:00:00\n",
      "1970-01-01 00:00:00\n",
      "1970-01-01 00:00:00\n",
      "1970-01-01 00:00:00\n",
      "1970-01-01 00:00:00\n",
      "1970-01-01 00:00:00\n",
      "1970-01-01 00:00:00\n",
      "1970-01-01 00:00:00\n",
      "1970-01-01 00:00:00\n",
      "1970-01-01 00:00:00\n",
      "1970-01-01 00:00:00\n",
      "1970-01-01 00:00:00\n",
      "1970-01-01 00:00:00\n",
      "1970-01-01 00:00:00\n",
      "1970-01-01 00:00:00\n",
      "1970-01-01 00:00:00\n",
      "1970-01-01 00:00:00\n",
      "1970-01-01 00:00:00\n",
      "1970-01-01 00:00:00\n",
      "1970-01-01 00:00:00\n"
     ]
    }
   ],
   "source": [
    "# df = DataFrame([[datetime.date(2013,1,1),datetime.date(2013,1,2)],[datetime.time(10),datetime.time(12)]]).T\n",
    "#df[['date','time']].apply(lambda x: datetime.datetime.combine(*list(x)),axis=1)\n",
    "d = '1970-01-01'\n",
    "for t in um['TimeStart']:\n",
    "    print pd.to_datetime(d)\n",
    "#pd.to_datetime('1907-01-01' + um.TimeStart, unit='ms')"
   ]
  },
  {
   "cell_type": "code",
   "execution_count": 257,
   "metadata": {
    "collapsed": false
   },
   "outputs": [
    {
     "data": {
      "text/plain": [
       "Date                  datetime64[ns]\n",
       "TimeStart                     object\n",
       "TimeEnd                       object\n",
       "SessionID                     object\n",
       "ProgramTitle                  object\n",
       "ProgramDescription            object\n",
       "ProgramMaterials              object\n",
       "Speaker1                      object\n",
       "Speaker2                      object\n",
       "Speaker3                      object\n",
       "Speaker4                      object\n",
       "Speaker5                      object\n",
       "Speaker6                      object\n",
       "ProgramLocation              float64\n",
       "ProgramAttributes             object\n",
       "speakers                      object\n",
       "dtype: object"
      ]
     },
     "execution_count": 257,
     "metadata": {},
     "output_type": "execute_result"
    }
   ],
   "source": [
    "um.dtypes"
   ]
  },
  {
   "cell_type": "code",
   "execution_count": 10,
   "metadata": {
    "collapsed": true
   },
   "outputs": [],
   "source": [
    "speak.to_json('speakers.json',orient='records' )"
   ]
  },
  {
   "cell_type": "code",
   "execution_count": 91,
   "metadata": {
    "collapsed": false
   },
   "outputs": [
    {
     "ename": "AttributeError",
     "evalue": "'module' object has no attribute 'time'",
     "output_type": "error",
     "traceback": [
      "\u001b[0;31m---------------------------------------------------------------------------\u001b[0m",
      "\u001b[0;31mAttributeError\u001b[0m                            Traceback (most recent call last)",
      "\u001b[0;32m<ipython-input-91-6319e806d6f9>\u001b[0m in \u001b[0;36m<module>\u001b[0;34m()\u001b[0m\n\u001b[0;32m----> 1\u001b[0;31m \u001b[0;32mprint\u001b[0m \u001b[0mpd\u001b[0m\u001b[0;34m.\u001b[0m\u001b[0mtime\u001b[0m\u001b[0;34m(\u001b[0m\u001b[0mum\u001b[0m\u001b[0;34m[\u001b[0m\u001b[0;34m'TimeStart'\u001b[0m\u001b[0;34m]\u001b[0m\u001b[0;34m)\u001b[0m\u001b[0;34m,\u001b[0m \u001b[0mpd\u001b[0m\u001b[0;34m.\u001b[0m\u001b[0mtime\u001b[0m\u001b[0;34m(\u001b[0m\u001b[0mum\u001b[0m\u001b[0;34m[\u001b[0m\u001b[0;34m'TimeEnd'\u001b[0m\u001b[0;34m]\u001b[0m\u001b[0;34m)\u001b[0m\u001b[0;34m\u001b[0m\u001b[0m\n\u001b[0m",
      "\u001b[0;31mAttributeError\u001b[0m: 'module' object has no attribute 'time'"
     ]
    }
   ],
   "source": [
    "print pd.time(um['TimeStart']), pd.time(um['TimeEnd'])"
   ]
  },
  {
   "cell_type": "code",
   "execution_count": 258,
   "metadata": {
    "collapsed": false
   },
   "outputs": [
    {
     "data": {
      "text/html": [
       "<div>\n",
       "<table border=\"1\" class=\"dataframe\">\n",
       "  <thead>\n",
       "    <tr style=\"text-align: right;\">\n",
       "      <th></th>\n",
       "      <th>Date</th>\n",
       "      <th>TimeStart</th>\n",
       "      <th>TimeEnd</th>\n",
       "      <th>SessionID</th>\n",
       "      <th>ProgramTitle</th>\n",
       "      <th>ProgramDescription</th>\n",
       "      <th>ProgramMaterials</th>\n",
       "      <th>Speaker1</th>\n",
       "      <th>Speaker2</th>\n",
       "      <th>Speaker3</th>\n",
       "      <th>Speaker4</th>\n",
       "      <th>Speaker5</th>\n",
       "      <th>Speaker6</th>\n",
       "      <th>ProgramLocation</th>\n",
       "      <th>ProgramAttributes</th>\n",
       "      <th>speakers</th>\n",
       "    </tr>\n",
       "  </thead>\n",
       "  <tbody>\n",
       "    <tr>\n",
       "      <th>0</th>\n",
       "      <td>2018-01-21</td>\n",
       "      <td>14:00:00</td>\n",
       "      <td>18:00:00</td>\n",
       "      <td>NaN</td>\n",
       "      <td>Conference Check-In and On-Site Registration</td>\n",
       "      <td>NaN</td>\n",
       "      <td>NaN</td>\n",
       "      <td>NaN</td>\n",
       "      <td>NaN</td>\n",
       "      <td>NaN</td>\n",
       "      <td>NaN</td>\n",
       "      <td>NaN</td>\n",
       "      <td>NaN</td>\n",
       "      <td>NaN</td>\n",
       "      <td>NaN</td>\n",
       "      <td>[nan, nan, nan, nan, nan]</td>\n",
       "    </tr>\n",
       "    <tr>\n",
       "      <th>1</th>\n",
       "      <td>2018-01-22</td>\n",
       "      <td>07:00:00</td>\n",
       "      <td>NaN</td>\n",
       "      <td>NaN</td>\n",
       "      <td>Conference Check-In and On-Site Registration</td>\n",
       "      <td>NaN</td>\n",
       "      <td>NaN</td>\n",
       "      <td>NaN</td>\n",
       "      <td>NaN</td>\n",
       "      <td>NaN</td>\n",
       "      <td>NaN</td>\n",
       "      <td>NaN</td>\n",
       "      <td>NaN</td>\n",
       "      <td>NaN</td>\n",
       "      <td>NaN</td>\n",
       "      <td>[nan, nan, nan, nan, nan]</td>\n",
       "    </tr>\n",
       "    <tr>\n",
       "      <th>2</th>\n",
       "      <td>2018-01-22</td>\n",
       "      <td>09:00:00</td>\n",
       "      <td>12:15:00</td>\n",
       "      <td>NaN</td>\n",
       "      <td>Starting Off On the Right Foot While Avoiding ...</td>\n",
       "      <td>Clients launching new business ventures need a...</td>\n",
       "      <td>Fundamentals_1.pdf</td>\n",
       "      <td>Stephanie Loomis-Price</td>\n",
       "      <td>Samuel A. Donaldson</td>\n",
       "      <td>Ivan Taback</td>\n",
       "      <td>NaN</td>\n",
       "      <td>NaN</td>\n",
       "      <td>NaN</td>\n",
       "      <td>NaN</td>\n",
       "      <td>Fundamentals Program</td>\n",
       "      <td>[Stephanie Loomis-Price, Samuel A. Donaldson, ...</td>\n",
       "    </tr>\n",
       "    <tr>\n",
       "      <th>3</th>\n",
       "      <td>2018-01-22</td>\n",
       "      <td>10:30:00</td>\n",
       "      <td>10:45:00</td>\n",
       "      <td>NaN</td>\n",
       "      <td>Break</td>\n",
       "      <td>NaN</td>\n",
       "      <td>NaN</td>\n",
       "      <td>NaN</td>\n",
       "      <td>NaN</td>\n",
       "      <td>NaN</td>\n",
       "      <td>NaN</td>\n",
       "      <td>NaN</td>\n",
       "      <td>NaN</td>\n",
       "      <td>NaN</td>\n",
       "      <td>NaN</td>\n",
       "      <td>[nan, nan, nan, nan, nan]</td>\n",
       "    </tr>\n",
       "    <tr>\n",
       "      <th>4</th>\n",
       "      <td>2018-01-22</td>\n",
       "      <td>12:15:00</td>\n",
       "      <td>14:00:00</td>\n",
       "      <td>NaN</td>\n",
       "      <td>Lunch</td>\n",
       "      <td>NaN</td>\n",
       "      <td>NaN</td>\n",
       "      <td>NaN</td>\n",
       "      <td>NaN</td>\n",
       "      <td>NaN</td>\n",
       "      <td>NaN</td>\n",
       "      <td>NaN</td>\n",
       "      <td>NaN</td>\n",
       "      <td>NaN</td>\n",
       "      <td>NaN</td>\n",
       "      <td>[nan, nan, nan, nan, nan]</td>\n",
       "    </tr>\n",
       "  </tbody>\n",
       "</table>\n",
       "</div>"
      ],
      "text/plain": [
       "        Date TimeStart   TimeEnd SessionID  \\\n",
       "0 2018-01-21  14:00:00  18:00:00       NaN   \n",
       "1 2018-01-22  07:00:00       NaN       NaN   \n",
       "2 2018-01-22  09:00:00  12:15:00       NaN   \n",
       "3 2018-01-22  10:30:00  10:45:00       NaN   \n",
       "4 2018-01-22  12:15:00  14:00:00       NaN   \n",
       "\n",
       "                                        ProgramTitle  \\\n",
       "0       Conference Check-In and On-Site Registration   \n",
       "1       Conference Check-In and On-Site Registration   \n",
       "2  Starting Off On the Right Foot While Avoiding ...   \n",
       "3                                              Break   \n",
       "4                                              Lunch   \n",
       "\n",
       "                                  ProgramDescription    ProgramMaterials  \\\n",
       "0                                                NaN                 NaN   \n",
       "1                                                NaN                 NaN   \n",
       "2  Clients launching new business ventures need a...  Fundamentals_1.pdf   \n",
       "3                                                NaN                 NaN   \n",
       "4                                                NaN                 NaN   \n",
       "\n",
       "                 Speaker1             Speaker2     Speaker3 Speaker4 Speaker5  \\\n",
       "0                     NaN                  NaN          NaN      NaN      NaN   \n",
       "1                     NaN                  NaN          NaN      NaN      NaN   \n",
       "2  Stephanie Loomis-Price  Samuel A. Donaldson  Ivan Taback      NaN      NaN   \n",
       "3                     NaN                  NaN          NaN      NaN      NaN   \n",
       "4                     NaN                  NaN          NaN      NaN      NaN   \n",
       "\n",
       "  Speaker6  ProgramLocation     ProgramAttributes  \\\n",
       "0      NaN              NaN                   NaN   \n",
       "1      NaN              NaN                   NaN   \n",
       "2      NaN              NaN  Fundamentals Program   \n",
       "3      NaN              NaN                   NaN   \n",
       "4      NaN              NaN                   NaN   \n",
       "\n",
       "                                            speakers  \n",
       "0                          [nan, nan, nan, nan, nan]  \n",
       "1                          [nan, nan, nan, nan, nan]  \n",
       "2  [Stephanie Loomis-Price, Samuel A. Donaldson, ...  \n",
       "3                          [nan, nan, nan, nan, nan]  \n",
       "4                          [nan, nan, nan, nan, nan]  "
      ]
     },
     "execution_count": 258,
     "metadata": {},
     "output_type": "execute_result"
    }
   ],
   "source": [
    "um.head()"
   ]
  },
  {
   "cell_type": "code",
   "execution_count": 6,
   "metadata": {
    "collapsed": true
   },
   "outputs": [],
   "source": [
    "speak = speak.apply(lambda x: x.str.strip() if x.dtype == \"object\" else x)"
   ]
  },
  {
   "cell_type": "code",
   "execution_count": 105,
   "metadata": {
    "collapsed": false
   },
   "outputs": [
    {
     "data": {
      "text/html": [
       "<div>\n",
       "<table border=\"1\" class=\"dataframe\">\n",
       "  <thead>\n",
       "    <tr style=\"text-align: right;\">\n",
       "      <th></th>\n",
       "      <th>SpeakerLastName</th>\n",
       "      <th>SpeakerFirstName</th>\n",
       "      <th>SpeakerMiddle</th>\n",
       "      <th>SpeakerBio</th>\n",
       "      <th>speaker</th>\n",
       "      <th>bio</th>\n",
       "      <th>biotext</th>\n",
       "    </tr>\n",
       "  </thead>\n",
       "  <tbody>\n",
       "    <tr>\n",
       "      <th>0</th>\n",
       "      <td>Abendroth</td>\n",
       "      <td>Thomas</td>\n",
       "      <td>W.</td>\n",
       "      <td>Abendroth_Bio2018.pdf</td>\n",
       "      <td>Thomas W. Abendroth</td>\n",
       "      <td>Abendroth_Bio2018.html</td>\n",
       "      <td>&lt;p&gt;Terrence M. Franklin&lt;/p&gt;\\n&lt;p&gt;Sacks, Glazier...</td>\n",
       "    </tr>\n",
       "    <tr>\n",
       "      <th>1</th>\n",
       "      <td>Aghdami</td>\n",
       "      <td>Farhad</td>\n",
       "      <td></td>\n",
       "      <td>Aghdami_Bio2018.pdf</td>\n",
       "      <td></td>\n",
       "      <td>Aghdami_Bio2018.html</td>\n",
       "      <td>&lt;p&gt;Terrence M. Franklin&lt;/p&gt;\\n&lt;p&gt;Sacks, Glazier...</td>\n",
       "    </tr>\n",
       "    <tr>\n",
       "      <th>2</th>\n",
       "      <td>Akers</td>\n",
       "      <td>Steve</td>\n",
       "      <td>R.</td>\n",
       "      <td>Akers_Bio2018.pdf</td>\n",
       "      <td>Steve R. Akers</td>\n",
       "      <td>Akers_Bio2018.html</td>\n",
       "      <td>&lt;p&gt;Terrence M. Franklin&lt;/p&gt;\\n&lt;p&gt;Sacks, Glazier...</td>\n",
       "    </tr>\n",
       "    <tr>\n",
       "      <th>3</th>\n",
       "      <td>Anderson</td>\n",
       "      <td>Alec</td>\n",
       "      <td>R.</td>\n",
       "      <td>Anderson_Bio2018.pdf</td>\n",
       "      <td>Alec R. Anderson</td>\n",
       "      <td>Anderson_Bio2018.html</td>\n",
       "      <td>&lt;p&gt;Terrence M. Franklin&lt;/p&gt;\\n&lt;p&gt;Sacks, Glazier...</td>\n",
       "    </tr>\n",
       "    <tr>\n",
       "      <th>4</th>\n",
       "      <td>Angkatavanich</td>\n",
       "      <td>N.</td>\n",
       "      <td>Todd</td>\n",
       "      <td>Angkatavanich_Bio2018.pdf</td>\n",
       "      <td>N. Todd Angkatavanich</td>\n",
       "      <td>Angkatavanich_Bio2018.html</td>\n",
       "      <td>&lt;p&gt;Terrence M. Franklin&lt;/p&gt;\\n&lt;p&gt;Sacks, Glazier...</td>\n",
       "    </tr>\n",
       "  </tbody>\n",
       "</table>\n",
       "</div>"
      ],
      "text/plain": [
       "  SpeakerLastName SpeakerFirstName SpeakerMiddle                 SpeakerBio  \\\n",
       "0       Abendroth           Thomas            W.      Abendroth_Bio2018.pdf   \n",
       "1         Aghdami           Farhad                      Aghdami_Bio2018.pdf   \n",
       "2           Akers            Steve            R.          Akers_Bio2018.pdf   \n",
       "3        Anderson             Alec            R.       Anderson_Bio2018.pdf   \n",
       "4   Angkatavanich               N.          Todd  Angkatavanich_Bio2018.pdf   \n",
       "\n",
       "                 speaker                         bio  \\\n",
       "0    Thomas W. Abendroth      Abendroth_Bio2018.html   \n",
       "1                               Aghdami_Bio2018.html   \n",
       "2         Steve R. Akers          Akers_Bio2018.html   \n",
       "3       Alec R. Anderson       Anderson_Bio2018.html   \n",
       "4  N. Todd Angkatavanich  Angkatavanich_Bio2018.html   \n",
       "\n",
       "                                             biotext  \n",
       "0  <p>Terrence M. Franklin</p>\\n<p>Sacks, Glazier...  \n",
       "1  <p>Terrence M. Franklin</p>\\n<p>Sacks, Glazier...  \n",
       "2  <p>Terrence M. Franklin</p>\\n<p>Sacks, Glazier...  \n",
       "3  <p>Terrence M. Franklin</p>\\n<p>Sacks, Glazier...  \n",
       "4  <p>Terrence M. Franklin</p>\\n<p>Sacks, Glazier...  "
      ]
     },
     "execution_count": 105,
     "metadata": {},
     "output_type": "execute_result"
    }
   ],
   "source": [
    "speak.head()"
   ]
  },
  {
   "cell_type": "code",
   "execution_count": 83,
   "metadata": {
    "collapsed": true
   },
   "outputs": [
    {
     "data": {
      "text/plain": [
       "[[],\n",
       " [],\n",
       " [u'Stephanie Loomis- Price', u'Samuel A. Donaldson', u'Ivan Taback'],\n",
       " [],\n",
       " [],\n",
       " [u'Tina Portuondo, Director, Heckerling Institute',\n",
       "  u'Patricia D. White, Dean, University of Miami School of Law'],\n",
       " [u'Carol A. Harrington',\n",
       "  u'Steve R. Akers',\n",
       "  u'Jeffrey N. Pennell',\n",
       "  u'Materials by: Steve R. Akers, Samuel A. Donaldson, Charles D. \"Skip\" Fox, IV, Jeffrey N. Pennell, and Howard M. Zaritsky',\n",
       "  u'Edited by: Ronald D. Aucutt'],\n",
       " [],\n",
       " [],\n",
       " [u'Paul S. Lee'],\n",
       " [u'Thomas W. Abendroth'],\n",
       " [],\n",
       " [u'Diana S.C. Zeydel'],\n",
       " [u'Trevor Potter'],\n",
       " [],\n",
       " [u'S. Andrew Pharies'],\n",
       " [u'Louis A. Mezzullo'],\n",
       " [],\n",
       " [u'Martin Hall'],\n",
       " [u'Terrence M. Franklin'],\n",
       " [u'Bernard A. Krooks'],\n",
       " [u'M. Read Moore'],\n",
       " [],\n",
       " [u'Carol A. Harrington', u'Steve R. Akers', u'Jeffrey N. Pennell'],\n",
       " [],\n",
       " [u'Alan S. Halperin', u'Amy E. Heller'],\n",
       " [u'Paul S. Lee', u'Turney P. Berry', u'Ellen K. Harrison'],\n",
       " [u'Louis A. Mezzullo', u'Nancy G. Henderson'],\n",
       " [u'M. Read Moore', u'Alec R. Anderson'],\n",
       " [u'Dana G. Fitzsimons, Jr.'],\n",
       " [u'Katherine N. Barr', u'Kristen M. Lewis', u'James M. McCarten'],\n",
       " [u'Martin Hall', u'Erik Dryburgh', u'Michele A.W. McKinnon'],\n",
       " [],\n",
       " [u'Diana S.C. Zeydel', u'Todd A. Flubacher', u'Barry F. Spivey'],\n",
       " [u'Thomas W. Abendroth', u'Robert R. Pluth, Jr.'],\n",
       " [u'Bruce M. Stone', u'Eliam Medina', u'Suzanne Brown Walsh'],\n",
       " [u'Bernard A. Krooks', u'Robert B. Fleming', u'Lawrence A. Frolik'],\n",
       " [u'S. Andrew Pharies', u'David A. Baker', u'Jo Ann Engelhardt'],\n",
       " [u'Linda J. Wank', u'Edward H. Rosenthal', u'David Sleeman'],\n",
       " [u'Joshua S. Rubenstein'],\n",
       " [u'Robert H. Sitkoff'],\n",
       " [],\n",
       " [u'Michele A.W. McKinnon'],\n",
       " [u'Farhad Aghdami'],\n",
       " [],\n",
       " [u'N. Todd Angkatavanich',\n",
       "  u'Scott A. Bowman',\n",
       "  u'Carlyn S. McCaffrey',\n",
       "  u'Edward Vergara'],\n",
       " [u'Robert H. Sitkoff',\n",
       "  u'Turney P. Berry',\n",
       "  u'James M. Marion',\n",
       "  u'Susan D. Snyder'],\n",
       " [u'Daniel S. Rubin', u'Terrence M. Franklin', u'Michael M. Gordon'],\n",
       " [u'Lawrence Brody', u'Mary Ann Mancini', u'Charles L. Ratner'],\n",
       " [u'Michele A.W. McKinnon'],\n",
       " [u'Charles D. \"Skip\" Fox, IV', u'J. Lee E. Osborne', u'Mary F. Radford'],\n",
       " [u'Linda M. Doyle', u'Elizabeth A. Quinn'],\n",
       " [],\n",
       " [u'Natalie B. Choate'],\n",
       " [u'Joshua S. Rubenstein', u'Scott T. Ditman'],\n",
       " [u'Farhad Aghdami', u'Sarah Moore Johnson'],\n",
       " [u'Amy K. Kanyuk', u'William T. Hennessey', u'R. Hugh Magill'],\n",
       " [u'Steven K. Mignogna',\n",
       "  u'Jo Ann Engelhardt',\n",
       "  u'Terrence M. Franklin',\n",
       "  u'Richard W. Nenno',\n",
       "  u'Robert D. Steele'],\n",
       " [u'Natalie B. Choate'],\n",
       " [u'Amy K. Kanyuk'],\n",
       " [],\n",
       " [u'Jonathan G. Blattmachr', u'Martin Shenkman']]"
      ]
     },
     "execution_count": 83,
     "metadata": {},
     "output_type": "execute_result"
    }
   ],
   "source": [
    "#print um[um.columns[7:12]].values.tolist()\n",
    "um[um.columns[7:12]].applymap(lambda x: [x] if (x != '') else []).sum(1).tolist()\n",
    "#um[um.columns[7:12]].applymap(lambda x: [x] if pd.notnull(x) else []).sum(1).tolist()\n",
    "#arr = um[um.columns[7:12]].apply(lambda x: x.values.tolist() if x.value != '' else x)"
   ]
  },
  {
   "cell_type": "code",
   "execution_count": 102,
   "metadata": {
    "collapsed": false
   },
   "outputs": [
    {
     "name": "stdout",
     "output_type": "stream",
     "text": [
      "<p>Terrence M. Franklin</p>\n",
      "<p>Sacks, Glazier, Franklin &amp; Lodise LLP</p>\n",
      "<p>Los Angeles, California</p>\n",
      "<p>________________________________</p>\n",
      "<p>Terrence M. Franklin (“Terry”), Partner at Sacks Glazier Franklin &amp; Lodise, is a seasoned attorney with nearly a quarter century of experience handling trust and estates and probate litigation, disputes and appeals.</p>\n",
      "<p>Terry has extensive trial and appellate experience, including successful published appeals and the landmark <em>Moeller</em> case, which was brought before the California Supreme Court. 16 Cal. 4<sup>th</sup> 1124.</p>\n",
      "<p>An active member of the trusts and estates legal community, Terry serves as Vice-Chair of the Diversity and Inclusivity Committee of the American College of Trust and Estate Counsel (ACTEC). In addition, Terry serves on the Board of Regents of ACTEC, the California Membership Committee, and the Fiduciary Litigation Committee.</p>\n",
      "<p>Terry is a member of the Diversity Committee of the American Bar Association (ABA) Real Property, Trust and Estate Section; a former Council Member and Supervisory Council Member for the Litigation, Ethics and Malpractice Group; a Former Vice Chair of the Practice Group Management; and Former Chair of the Ethics and Malpractice Committee.</p>\n",
      "<p>Terry is frequently called upon as a speaker to national, state and local estate planning, trust, and probate groups, such as ACTEC, ABA Real Property Trust and Estate Law Section, and USC Trust and Estate Conference, where he is also a long-standing Planning Committee member.</p>\n",
      "<p>Terry has been named to the list of <em>Southern California Super Lawyers</em> every year since 2005, and has been included on the list of the <em>Best Lawyers in America</em> every year since 2011.</p>\n",
      "<p>Admitted to practice in California, Terry is a graduate of Harvard Law School and obtained his Bachelors of Science from Northwestern University. Prior to Sacks Glazier Franklin &amp; Lodise, he practiced with the Los Angeles office of Morrison &amp; Foerster and as a partner at Ross, Sacks &amp; Glazier, LLP.</p>\n",
      "\n"
     ]
    }
   ],
   "source": [
    "#pd.read_csv('Franklin_Bio2018.html')\n",
    "\n",
    "f = open('Franklin_Bio2018.html','r')\n",
    "message = f.read()\n",
    "print(message)\n",
    "f.close()\n",
    "\n",
    "speak['biotext'] = message"
   ]
  },
  {
   "cell_type": "code",
   "execution_count": 185,
   "metadata": {
    "collapsed": false
   },
   "outputs": [
    {
     "ename": "AttributeError",
     "evalue": "'str' object has no attribute 'dtype'",
     "output_type": "error",
     "traceback": [
      "\u001b[0;31m---------------------------------------------------------------------------\u001b[0m",
      "\u001b[0;31mAttributeError\u001b[0m                            Traceback (most recent call last)",
      "\u001b[0;32m<ipython-input-185-4a7a56d5944a>\u001b[0m in \u001b[0;36m<module>\u001b[0;34m()\u001b[0m\n\u001b[1;32m      6\u001b[0m         \u001b[0;31m#print(message)\u001b[0m\u001b[0;34m\u001b[0m\u001b[0;34m\u001b[0m\u001b[0m\n\u001b[1;32m      7\u001b[0m         \u001b[0mf\u001b[0m\u001b[0;34m.\u001b[0m\u001b[0mclose\u001b[0m\u001b[0;34m(\u001b[0m\u001b[0;34m)\u001b[0m\u001b[0;34m\u001b[0m\u001b[0m\n\u001b[0;32m----> 8\u001b[0;31m         \u001b[0;32mprint\u001b[0m \u001b[0mmessage\u001b[0m\u001b[0;34m.\u001b[0m\u001b[0mdtype\u001b[0m\u001b[0;34m\u001b[0m\u001b[0m\n\u001b[0m\u001b[1;32m      9\u001b[0m \u001b[0;34m\u001b[0m\u001b[0m\n\u001b[1;32m     10\u001b[0m \u001b[0;34m\u001b[0m\u001b[0m\n",
      "\u001b[0;31mAttributeError\u001b[0m: 'str' object has no attribute 'dtype'"
     ]
    }
   ],
   "source": [
    "\n",
    "for sp in speak.bio:\n",
    "    if os.path.isfile(sp):\n",
    "        f = open(str(sp),'r')\n",
    "        message = f.read()\n",
    "        #print(message)\n",
    "        f.close()\n",
    "\n",
    "    \n",
    "  "
   ]
  },
  {
   "cell_type": "code",
   "execution_count": 165,
   "metadata": {
    "collapsed": false
   },
   "outputs": [
    {
     "name": "stdout",
     "output_type": "stream",
     "text": [
      "[]\n"
     ]
    }
   ],
   "source": [
    "print bx"
   ]
  },
  {
   "cell_type": "code",
   "execution_count": 183,
   "metadata": {
    "collapsed": false
   },
   "outputs": [
    {
     "name": "stdout",
     "output_type": "stream",
     "text": [
      "['<p>Terrence M. Franklin</p>\\n<p>Sacks, Glazier, Franklin &amp; Lodise LLP</p>\\n<p>Los Angeles, California</p>\\n<p>________________________________</p>\\n<p>Terrence M. Franklin (\\xe2\\x80\\x9cTerry\\xe2\\x80\\x9d), Partner at Sacks Glazier Franklin &amp; Lodise, is a seasoned attorney with nearly a quarter century of experience handling trust and estates and probate litigation, disputes and appeals.</p>\\n<p>Terry has extensive trial and appellate experience, including successful published appeals and the landmark <em>Moeller</em> case, which was brought before the California Supreme Court. 16 Cal. 4<sup>th</sup> 1124.</p>\\n<p>An active member of the trusts and estates legal community, Terry serves as Vice-Chair of the Diversity and Inclusivity Committee of the American College of Trust and Estate Counsel (ACTEC). In addition, Terry serves on the Board of Regents of ACTEC, the California Membership Committee, and the Fiduciary Litigation Committee.</p>\\n<p>Terry is a member of the Diversity Committee of the American Bar Association (ABA) Real Property, Trust and Estate Section; a former Council Member and Supervisory Council Member for the Litigation, Ethics and Malpractice Group; a Former Vice Chair of the Practice Group Management; and Former Chair of the Ethics and Malpractice Committee.</p>\\n<p>Terry is frequently called upon as a speaker to national, state and local estate planning, trust, and probate groups, such as ACTEC, ABA Real Property Trust and Estate Law Section, and USC Trust and Estate Conference, where he is also a long-standing Planning Committee member.</p>\\n<p>Terry has been named to the list of <em>Southern California Super Lawyers</em> every year since 2005, and has been included on the list of the <em>Best Lawyers in America</em> every year since 2011.</p>\\n<p>Admitted to practice in California, Terry is a graduate of Harvard Law School and obtained his Bachelors of Science from Northwestern University. Prior to Sacks Glazier Franklin &amp; Lodise, he practiced with the Los Angeles office of Morrison &amp; Foerster and as a partner at Ross, Sacks &amp; Glazier, LLP.</p>\\n', \"<p>Louis A. Mezzullo</p>\\n<p>Withers Bergman LLP</p>\\n<p>Rancho Santa Fe, California</p>\\n<p>________________________________</p>\\n<p>Louis A. Mezzullo is a consulting partner in Withers Bergman LLP, practicing principally in California. His principal areas of practice are taxation, estate and business planning, and employee benefit planning. He was an Adjunct Professor of Law at the University of Richmond Law School from 1978 to 2006, where he taught courses in those subjects, was on the faculty of the University of Miami School of Law Graduate Program in Estate Planning from 2004 until 2007, and was on the faculty of the University of San Diego School of Law in 2009. He is listed in <em>Who's Who in American Law, Who's Who in Emerging Leaders</em> and <em>Who\\xe2\\x80\\x99s Who in America</em> (Marquis Who's Who Publishers) and in <em>The Best Lawyers in America</em> (for tax, trust and estates, and employee benefits) (Woodward/White Publishers) and was listed as one of the top 50 Lawyers in the 2012 Edition of the <em>San Diego Super Lawyers</em> and in the Top Attorneys in Business Services in the <em>Corporate Counsel Edition of Super Lawyers</em>. He is listed in band 1, Wealth Management, Western Region, in Chambers USA 2016. He has written articles on the subjects of taxation, estate planning and employee benefits for the <em>Journal of Taxation</em>, <em>University of Richmond Law Review</em>, <em>Virginia Bar Association Journal</em>, <em>Estate Planning</em>, <em>ACTEC Journal,</em> <em>Probate &amp; Property</em>, <em>Taxation for Accountants</em>, <em>Taxation for Lawyers</em>, <em>Taxation of Employee Benefits</em>, <em>Journal of Passthrough Entities</em>, <em>Business Entities,</em> and <em>Trusts &amp; Estates</em>. He has authored <em>An Estate Planner\\xe2\\x80\\x99s Guide to Buy-Sell Agreements</em> (1<sup>st</sup> and 2<sup>nd</sup> editions)<em>, An Estate Planner\\xe2\\x80\\x99s Guide to Life Insurance</em> (1<sup>st</sup> and 2<sup>nd</sup> editions)<em>, An Estate Planner's Guide to Qualified Retirement Plan Benefits</em> (1<sup>st</sup>, 2<sup>nd,</sup> 3<sup>rd,</sup> and 4<sup>th</sup> editions), <em>An Estate Planner's Guide to Family Business Entities</em> (1<sup>st,</sup> 2<sup>nd</sup> and 3<sup>rd</sup> editions), and <em>Valuation Rules Under Chapter 14</em>, all published by the American Bar Association Section of Real Property, Trust and Estate Law; co-authored <em>Advising the Elderly Client</em>, published by Clark Boardman Callaghan; authored <em>Transfers of Interests in Family Entities Under Chapter 14: Sections 2701, 2703, and 2704</em>, 835 Tax Management Portfolio (3<sup>rd</sup> edition); <em>The Mobile Client: Tax, Community Property, etc.,</em> 803 Tax Management Portfolio<em>; Estate Planning for Owners of Closely Held Business Interests</em>, 809 Tax Management Portfolio (2<sup>nd</sup> edition); <em>Family Limited Partnerships and Limited Liability Companies,</em> 812 Tax Management Portfolio; <em>Estate and Gift Tax Issues for Employee Benefit Plans</em>, 378 Tax Management Portfolio (1<sup>st,</sup> 2<sup>nd,</sup> and 3<sup>rd</sup> editions); <em>Life Insurance,</em> 826-3<sup>rd</sup> Tax Management Portfolio (3rd edition)<em>;</em> and <em>Valuation of Corporate</em> Stock, 831\\xc2\\xa0Tax Management Portfolio (3<sup>rd</sup> edition), all published by the Bureau of National Affairs, Inc.; and was editor and co-author of <em>Limited Liability Companies in Virginia</em>, published by the Virginia Law Foundation. He has spoken at numerous tax and estate planning conferences, including the Heckerling Institute on Estate Planning, the University of Southern California Institute on Federal Taxation, the Notre Dame Estate Planning Conference, the Mid-America Tax Conference, the Heart of America Tax Conference, the William and Mary Tax Conference, and the Virginia Federal Tax Conference.</p>\\n<p>Mezzullo received his J.D. from the University of Richmond Law School, and a B.A. and M.A. from the University of Maryland. He is a past Chair of the American College of Tax Counsel; a Fellow of the American Bar Foundation; a Fellow of the Virginia Law Foundation; a Past President of the American College of Trust and Estate Counsel, as well as former Chair of its Business Planning, Employee Benefits in Estate Planning, and Elder Law Committees; a Charter Fellow of the American College of Employee Benefits Counsel; an Academician and a former Vice President of the International Academy of Trust and Estate Law; and a member of the Virginia State Bar; California State Bar, and American Bar Association, a former Vice-chair of the ABA Section of Taxation, and a past Chair of the ABA Section of Real Property, Trust and Estate Law.</p>\\n<p>He is also a member of the Heckerling Institute on Estate Planning Advisory Committee, former Chair of the University of Richmond Estate Planning Advisory Council, former President of the Trust Administrator's Council of Richmond, and former co-director of the William and Mary Tax Conference. He is a former member of the Editorial Boards of the <em>ACTEC Journal,</em> the <em>Journal of Passthrough Entities,</em> and <em>Trusts &amp; Estates</em> magazine<em>,</em> and former editor of <em>ACTEC Journal</em>.</p>\\n<p>Mezzullo is a member of the Board of Directors of the Rancho Santa Fe Foundation. He was also a former member of the Board of Associates of the University of Richmond and former Chair of the Business Council of the Virginia Museum of Fine Arts and a former member of the Board of Directors of the Virginia Museum of Fine Arts Foundation. He is a former member of the Board of Directors of the San Diego YMCA and of the San Diego Opera. He is a former member of the Advisory Committee of the Virginia Opera, and a former member of the Board of Directors of the American Heart Association, Virginia Affiliate, the Richmond Symphony, the Richmond Ballet, and Willow Oaks Country Club. He was also President of the Southampton Citizens Association in 1972, and from 1985 to 1987.</p>\\n\"]\n"
     ]
    }
   ],
   "source": [
    "a = []\n",
    "for sp in speak.bio:\n",
    "    if os.path.isfile(sp):\n",
    "        f = open(sp,'r')\n",
    "        message = f.read()\n",
    "        #print(message)\n",
    "        f.close()\n",
    "        a.append(message)\n",
    "        \n",
    "print a\n",
    "    "
   ]
  },
  {
   "cell_type": "code",
   "execution_count": null,
   "metadata": {
    "collapsed": true
   },
   "outputs": [],
   "source": []
  }
 ],
 "metadata": {
  "anaconda-cloud": {},
  "kernelspec": {
   "display_name": "Python [Root]",
   "language": "python",
   "name": "Python [Root]"
  },
  "language_info": {
   "codemirror_mode": {
    "name": "ipython",
    "version": 2
   },
   "file_extension": ".py",
   "mimetype": "text/x-python",
   "name": "python",
   "nbconvert_exporter": "python",
   "pygments_lexer": "ipython2",
   "version": "2.7.12"
  }
 },
 "nbformat": 4,
 "nbformat_minor": 0
}
