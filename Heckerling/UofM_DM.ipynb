{
 "cells": [
  {
   "cell_type": "code",
   "execution_count": 12,
   "metadata": {
    "collapsed": true
   },
   "outputs": [],
   "source": [
    "import pyodbc\n",
    "import pandas as pd\n",
    "import numpy as np\n",
    "%matplotlib inline\n"
   ]
  },
  {
   "cell_type": "code",
   "execution_count": 14,
   "metadata": {
    "collapsed": false
   },
   "outputs": [],
   "source": [
    "um = pd.read_excel('UM_2.xlsx', sheetname='Sessions', header=0)\n",
    "speak = pd.read_excel('UM_2.xlsx', sheetname='Speakers', header=0)\n",
    "um.fillna('')\n",
    "speak = speak.fillna('')"
   ]
  },
  {
   "cell_type": "code",
   "execution_count": 3,
   "metadata": {
    "collapsed": false
   },
   "outputs": [
    {
     "data": {
      "text/html": [
       "<div>\n",
       "<table border=\"1\" class=\"dataframe\">\n",
       "  <thead>\n",
       "    <tr style=\"text-align: right;\">\n",
       "      <th></th>\n",
       "      <th>Date</th>\n",
       "      <th>TimeStart</th>\n",
       "      <th>TimeEnd</th>\n",
       "      <th>ProgramTItle</th>\n",
       "      <th>ProgramDescription</th>\n",
       "      <th>ProgramMaterials</th>\n",
       "      <th>Speaker1</th>\n",
       "      <th>Speaker2</th>\n",
       "      <th>Speaker3</th>\n",
       "      <th>Speaker4</th>\n",
       "      <th>Speaker5</th>\n",
       "      <th>Speaker6</th>\n",
       "      <th>ProgramLocation</th>\n",
       "      <th>ProgramAttributes</th>\n",
       "    </tr>\n",
       "  </thead>\n",
       "  <tbody>\n",
       "    <tr>\n",
       "      <th>13</th>\n",
       "      <td>2018-01-24</td>\n",
       "      <td>14:00:00</td>\n",
       "      <td>17:20:00</td>\n",
       "      <td>Selected Subchapter J Subjects: From the Plumb...</td>\n",
       "      <td>Understanding the rules of Subchapter J is ess...</td>\n",
       "      <td>Fundamentals_2.pdf</td>\n",
       "      <td>Alan S. Halperin</td>\n",
       "      <td>Amy E. Heller</td>\n",
       "      <td>NaN</td>\n",
       "      <td>NaN</td>\n",
       "      <td>NaN</td>\n",
       "      <td>NaN</td>\n",
       "      <td>NaN</td>\n",
       "      <td>Fundamentals</td>\n",
       "    </tr>\n",
       "  </tbody>\n",
       "</table>\n",
       "</div>"
      ],
      "text/plain": [
       "         Date TimeStart   TimeEnd  \\\n",
       "13 2018-01-24  14:00:00  17:20:00   \n",
       "\n",
       "                                         ProgramTItle  \\\n",
       "13  Selected Subchapter J Subjects: From the Plumb...   \n",
       "\n",
       "                                   ProgramDescription    ProgramMaterials  \\\n",
       "13  Understanding the rules of Subchapter J is ess...  Fundamentals_2.pdf   \n",
       "\n",
       "            Speaker1       Speaker2 Speaker3  Speaker4  Speaker5  Speaker6  \\\n",
       "13  Alan S. Halperin  Amy E. Heller      NaN       NaN       NaN       NaN   \n",
       "\n",
       "    ProgramLocation ProgramAttributes  \n",
       "13              NaN      Fundamentals  "
      ]
     },
     "execution_count": 3,
     "metadata": {},
     "output_type": "execute_result"
    }
   ],
   "source": [
    "um[um.Speaker1.str.contains('halp', case=False, na=False)]"
   ]
  },
  {
   "cell_type": "code",
   "execution_count": 15,
   "metadata": {
    "collapsed": false
   },
   "outputs": [],
   "source": [
    "speak['speaker'] = speak.SpeakerFirstName + ' ' + speak.SpeakerMiddle + ' ' + speak.SpeakerLastName"
   ]
  },
  {
   "cell_type": "code",
   "execution_count": 16,
   "metadata": {
    "collapsed": false
   },
   "outputs": [
    {
     "data": {
      "text/html": [
       "<div>\n",
       "<table border=\"1\" class=\"dataframe\">\n",
       "  <thead>\n",
       "    <tr style=\"text-align: right;\">\n",
       "      <th></th>\n",
       "      <th>SpeakerLastName</th>\n",
       "      <th>SpeakerFirstName</th>\n",
       "      <th>SpeakerMiddle</th>\n",
       "      <th>SpeakerBio</th>\n",
       "      <th>speaker</th>\n",
       "    </tr>\n",
       "  </thead>\n",
       "  <tbody>\n",
       "    <tr>\n",
       "      <th>0</th>\n",
       "      <td>Abendroth</td>\n",
       "      <td>Thomas</td>\n",
       "      <td>W.</td>\n",
       "      <td>Abendroth_Bio2018.pdf</td>\n",
       "      <td>Thomas  W. Abendroth</td>\n",
       "    </tr>\n",
       "    <tr>\n",
       "      <th>1</th>\n",
       "      <td>Aghdami</td>\n",
       "      <td>Farhad</td>\n",
       "      <td></td>\n",
       "      <td>Aghdami_Bio2018.pdf</td>\n",
       "      <td>Farhad  Aghdami</td>\n",
       "    </tr>\n",
       "    <tr>\n",
       "      <th>2</th>\n",
       "      <td>Akers</td>\n",
       "      <td>Steve</td>\n",
       "      <td>R.</td>\n",
       "      <td>Akers_Bio2018.pdf</td>\n",
       "      <td>Steve R. Akers</td>\n",
       "    </tr>\n",
       "    <tr>\n",
       "      <th>3</th>\n",
       "      <td>Anderson</td>\n",
       "      <td>Alec</td>\n",
       "      <td>R.</td>\n",
       "      <td>Anderson_Bio2018.pdf</td>\n",
       "      <td>Alec  R. Anderson</td>\n",
       "    </tr>\n",
       "    <tr>\n",
       "      <th>4</th>\n",
       "      <td>Angkatavanich</td>\n",
       "      <td>N.</td>\n",
       "      <td>Todd</td>\n",
       "      <td>Angkatavanich_Bio2018.pdf</td>\n",
       "      <td>N.  Todd Angkatavanich</td>\n",
       "    </tr>\n",
       "  </tbody>\n",
       "</table>\n",
       "</div>"
      ],
      "text/plain": [
       "  SpeakerLastName SpeakerFirstName SpeakerMiddle                 SpeakerBio  \\\n",
       "0       Abendroth          Thomas             W.      Abendroth_Bio2018.pdf   \n",
       "1         Aghdami           Farhad                      Aghdami_Bio2018.pdf   \n",
       "2           Akers            Steve            R.          Akers_Bio2018.pdf   \n",
       "3        Anderson            Alec             R.       Anderson_Bio2018.pdf   \n",
       "4   Angkatavanich              N.           Todd  Angkatavanich_Bio2018.pdf   \n",
       "\n",
       "                  speaker  \n",
       "0    Thomas  W. Abendroth  \n",
       "1         Farhad  Aghdami  \n",
       "2          Steve R. Akers  \n",
       "3       Alec  R. Anderson  \n",
       "4  N.  Todd Angkatavanich  "
      ]
     },
     "execution_count": 16,
     "metadata": {},
     "output_type": "execute_result"
    }
   ],
   "source": [
    "speak.head()"
   ]
  },
  {
   "cell_type": "code",
   "execution_count": 19,
   "metadata": {
    "collapsed": true
   },
   "outputs": [],
   "source": [
    "um.to_json('umtest.json',orient='records' )"
   ]
  },
  {
   "cell_type": "code",
   "execution_count": 8,
   "metadata": {
    "collapsed": false
   },
   "outputs": [
    {
     "data": {
      "text/plain": [
       "0    2018-01-22\n",
       "1    2018-01-22\n",
       "2    2018-01-23\n",
       "3    2018-01-23\n",
       "4    2018-01-23\n",
       "5    2018-01-23\n",
       "6    2018-01-23\n",
       "7    2018-01-23\n",
       "8    2018-01-23\n",
       "9    2018-01-23\n",
       "10   2018-01-24\n",
       "11   2018-01-24\n",
       "12   2018-01-24\n",
       "13   2018-01-24\n",
       "14   2018-01-24\n",
       "Name: Date, dtype: datetime64[ns]"
      ]
     },
     "execution_count": 8,
     "metadata": {},
     "output_type": "execute_result"
    }
   ],
   "source": [
    "pd.to_datetime(um.Date, unit='D')"
   ]
  },
  {
   "cell_type": "code",
   "execution_count": 10,
   "metadata": {
    "collapsed": false
   },
   "outputs": [
    {
     "data": {
      "text/plain": [
       "Date                  datetime64[ns]\n",
       "TimeStart                     object\n",
       "TimeEnd                       object\n",
       "ProgramTItle                  object\n",
       "ProgramDescription            object\n",
       "ProgramMaterials              object\n",
       "Speaker1                      object\n",
       "Speaker2                      object\n",
       "Speaker3                      object\n",
       "Speaker4                     float64\n",
       "Speaker5                     float64\n",
       "Speaker6                     float64\n",
       "ProgramLocation              float64\n",
       "ProgramAttributes             object\n",
       "dtype: object"
      ]
     },
     "execution_count": 10,
     "metadata": {},
     "output_type": "execute_result"
    }
   ],
   "source": [
    "um.dtypes"
   ]
  },
  {
   "cell_type": "code",
   "execution_count": 1,
   "metadata": {
    "collapsed": false
   },
   "outputs": [
    {
     "ename": "NameError",
     "evalue": "name 'speak' is not defined",
     "output_type": "error",
     "traceback": [
      "\u001b[0;31m---------------------------------------------------------------------------\u001b[0m",
      "\u001b[0;31mNameError\u001b[0m                                 Traceback (most recent call last)",
      "\u001b[0;32m<ipython-input-1-808524843597>\u001b[0m in \u001b[0;36m<module>\u001b[0;34m()\u001b[0m\n\u001b[0;32m----> 1\u001b[0;31m \u001b[0mspeak\u001b[0m\u001b[0;34m.\u001b[0m\u001b[0mhead\u001b[0m\u001b[0;34m(\u001b[0m\u001b[0;34m)\u001b[0m\u001b[0;34m\u001b[0m\u001b[0m\n\u001b[0m",
      "\u001b[0;31mNameError\u001b[0m: name 'speak' is not defined"
     ]
    }
   ],
   "source": [
    "speak.head()"
   ]
  },
  {
   "cell_type": "code",
   "execution_count": 18,
   "metadata": {
    "collapsed": true
   },
   "outputs": [],
   "source": [
    "speak.to_json('speakers.json',orient='records' )"
   ]
  },
  {
   "cell_type": "code",
   "execution_count": null,
   "metadata": {
    "collapsed": true
   },
   "outputs": [],
   "source": []
  }
 ],
 "metadata": {
  "kernelspec": {
   "display_name": "Python [Root]",
   "language": "python",
   "name": "Python [Root]"
  }
 },
 "nbformat": 4,
 "nbformat_minor": 0
}
