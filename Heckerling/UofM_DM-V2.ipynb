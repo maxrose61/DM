{
 "cells": [
  {
   "cell_type": "code",
   "execution_count": 7,
   "metadata": {
    "collapsed": false
   },
   "outputs": [],
   "source": [
    "# -*- coding: utf-8 -*-\n",
    "import pyodbc\n",
    "import pandas as pd\n",
    "import numpy as np\n",
    "import os.path\n",
    "#from datetime import time\n",
    "%matplotlib inline\n",
    "\n"
   ]
  },
  {
   "cell_type": "code",
   "execution_count": 8,
   "metadata": {
    "collapsed": false
   },
   "outputs": [],
   "source": [
    "um = pd.read_excel('UM_2.xlsx', sheetname='Sessions', header=0,)\n",
    "speak = pd.read_excel('UM_2.xlsx', sheetname='Speakers', header=0 )\n",
    "#print um.dtypes\n",
    "speak = speak.apply(lambda x: x.str.strip() if x.dtype == \"object\" else x)\n",
    "speak['bio'] = speak.SpeakerBio.str.replace('.pdf', '.html')\n",
    "um = um.fillna('')\n",
    "speak = speak.fillna('')\n",
    "um['speakers'] = um[um.columns[7:13]].applymap(lambda x: [x] if (x != '') else []).sum(1).tolist()\n",
    "#um = um.apply(lambda x: x.str.strip() if x.dtype == \"object\" else x)"
   ]
  },
  {
   "cell_type": "code",
   "execution_count": 9,
   "metadata": {
    "collapsed": false
   },
   "outputs": [],
   "source": [
    "# read in biographies from html.\n",
    "bx = []\n",
    "for sp in speak.bio:\n",
    "    if os.path.isfile(sp):\n",
    "        f = open(str(sp),'r')\n",
    "        message = f.read()\n",
    "        #print(message)\n",
    "        f.close()\n",
    "        bx.append(message)\n",
    "    else:\n",
    "        bx.append('')\n",
    "speak['biotext'] = bx  \n",
    "\n",
    "# Concatenate speaker full name to \"speaker\" column for matching purposes.\n",
    "cat = []\n",
    "for row in speak.itertuples():\n",
    "    if row.SpeakerMiddle:\n",
    "        cat.append(row.SpeakerFirstName + ' ' + row.SpeakerMiddle + ' ' + row.SpeakerLastName)\n",
    "    else:\n",
    "        cat.append(row.SpeakerFirstName  + ' ' + row.SpeakerLastName)\n",
    "        \n",
    "speak['speaker'] = cat\n",
    "    \n",
    "\n"
   ]
  },
  {
   "cell_type": "code",
   "execution_count": 10,
   "metadata": {
    "collapsed": false
   },
   "outputs": [
    {
     "data": {
      "text/plain": [
       "57    [Steven K. Mignogna, Jo Ann Engelhardt, Terren...\n",
       "Name: speakers, dtype: object"
      ]
     },
     "execution_count": 10,
     "metadata": {},
     "output_type": "execute_result"
    }
   ],
   "source": [
    "um[um.Speaker6 != ''].speakers"
   ]
  },
  {
   "cell_type": "code",
   "execution_count": 11,
   "metadata": {
    "collapsed": true
   },
   "outputs": [],
   "source": [
    "um.to_json('umtest.json',orient='records',date_format='iso' )"
   ]
  },
  {
   "cell_type": "code",
   "execution_count": 12,
   "metadata": {
    "collapsed": false
   },
   "outputs": [],
   "source": [
    "speak.to_json('speakers.json',orient='records' )"
   ]
  },
  {
   "cell_type": "code",
   "execution_count": null,
   "metadata": {
    "collapsed": true
   },
   "outputs": [],
   "source": []
  }
 ],
 "metadata": {
  "anaconda-cloud": {},
  "kernelspec": {
   "display_name": "Python [Root]",
   "language": "python",
   "name": "Python [Root]"
  },
  "language_info": {
   "codemirror_mode": {
    "name": "ipython",
    "version": 2
   },
   "file_extension": ".py",
   "mimetype": "text/x-python",
   "name": "python",
   "nbconvert_exporter": "python",
   "pygments_lexer": "ipython2",
   "version": "2.7.12"
  }
 },
 "nbformat": 4,
 "nbformat_minor": 0
}
