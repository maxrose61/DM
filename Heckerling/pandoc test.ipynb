{
 "cells": [
  {
   "cell_type": "code",
   "execution_count": 1,
   "metadata": {
    "collapsed": true
   },
   "outputs": [],
   "source": [
    "import pypandoc"
   ]
  },
  {
   "cell_type": "code",
   "execution_count": 6,
   "metadata": {
    "collapsed": false
   },
   "outputs": [
    {
     "data": {
      "text/plain": [
       "u''"
      ]
     },
     "execution_count": 6,
     "metadata": {},
     "output_type": "execute_result"
    }
   ],
   "source": [
    "filename = '/Users/maxrose/Documents/DM/Heckerling/Franklin_Bio2018.docx'\n",
    "pypandoc.convert_file(filename, 'html5', outputfile ='/Users/maxrose/Documents/DM/Heckerling/Franklin_Bio2018.html')"
   ]
  },
  {
   "cell_type": "code",
   "execution_count": 15,
   "metadata": {
    "collapsed": false
   },
   "outputs": [
    {
     "name": "stdout",
     "output_type": "stream",
     "text": [
      "([u'commonmark', u'docbook', u'docx', u'epub', u'haddock', u'html', u'json', u'latex', u'markdown', u'markdown_github', u'markdown_mmd', u'markdown_phpextra', u'markdown_strict', u'mediawiki', u'native', u'odt', u'opml', u'org', u'rst', u't2t', u'textile', u'twiki'], [u'asciidoc', u'beamer', u'commonmark', u'context', u'docbook', u'docbook5', u'docx', u'dokuwiki', u'dzslides', u'epub', u'epub3', u'fb2', u'haddock', u'html', u'html5', u'icml', u'json', u'latex', u'man', u'markdown', u'markdown_github', u'markdown_mmd', u'markdown_phpextra', u'markdown_strict', u'mediawiki', u'native', u'odt', u'opendocument', u'opml', u'org', u'plain', u'revealjs', u'rst', u'rtf', u's5', u'slideous', u'slidy', u'tei', u'texinfo', u'textile', u'zimwiki'])\n"
     ]
    }
   ],
   "source": [
    "#print(pypandoc.get_pandoc_formats())"
   ]
  },
  {
   "cell_type": "code",
   "execution_count": null,
   "metadata": {
    "collapsed": true
   },
   "outputs": [],
   "source": []
  }
 ],
 "metadata": {
  "anaconda-cloud": {},
  "kernelspec": {
   "display_name": "Python [Root]",
   "language": "python",
   "name": "Python [Root]"
  },
  "language_info": {
   "codemirror_mode": {
    "name": "ipython",
    "version": 2
   },
   "file_extension": ".py",
   "mimetype": "text/x-python",
   "name": "python",
   "nbconvert_exporter": "python",
   "pygments_lexer": "ipython2",
   "version": "2.7.12"
  }
 },
 "nbformat": 4,
 "nbformat_minor": 0
}
