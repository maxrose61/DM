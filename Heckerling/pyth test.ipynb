{
 "cells": [
  {
   "cell_type": "code",
   "execution_count": 4,
   "metadata": {
    "collapsed": false
   },
   "outputs": [],
   "source": [
    "from bs4 import BeautifulSoup"
   ]
  },
  {
   "cell_type": "code",
   "execution_count": 5,
   "metadata": {
    "collapsed": false
   },
   "outputs": [
    {
     "ename": "ImportError",
     "evalue": "No module named BeautifulSoup",
     "output_type": "error",
     "traceback": [
      "\u001b[0;31m---------------------------------------------------------------------------\u001b[0m",
      "\u001b[0;31mImportError\u001b[0m                               Traceback (most recent call last)",
      "\u001b[0;32m<ipython-input-5-5e37e386e2c1>\u001b[0m in \u001b[0;36m<module>\u001b[0;34m()\u001b[0m\n\u001b[1;32m      1\u001b[0m \u001b[0;34m\u001b[0m\u001b[0m\n\u001b[1;32m      2\u001b[0m \u001b[0;34m\u001b[0m\u001b[0m\n\u001b[0;32m----> 3\u001b[0;31m \u001b[0;32mfrom\u001b[0m \u001b[0mpyth\u001b[0m\u001b[0;34m.\u001b[0m\u001b[0mplugins\u001b[0m\u001b[0;34m.\u001b[0m\u001b[0mxhtml\u001b[0m\u001b[0;34m.\u001b[0m\u001b[0mreader\u001b[0m \u001b[0;32mimport\u001b[0m \u001b[0mXHTMLReader\u001b[0m\u001b[0;34m\u001b[0m\u001b[0m\n\u001b[0m\u001b[1;32m      4\u001b[0m \u001b[0;32mfrom\u001b[0m \u001b[0mpyth\u001b[0m\u001b[0;34m.\u001b[0m\u001b[0mplugins\u001b[0m\u001b[0;34m.\u001b[0m\u001b[0mxhtml\u001b[0m\u001b[0;34m.\u001b[0m\u001b[0mwriter\u001b[0m \u001b[0;32mimport\u001b[0m \u001b[0mXHTMLWriter\u001b[0m\u001b[0;34m\u001b[0m\u001b[0m\n\u001b[1;32m      5\u001b[0m \u001b[0;32mimport\u001b[0m \u001b[0mxhtml\u001b[0m\u001b[0;34m\u001b[0m\u001b[0m\n",
      "\u001b[0;32m/Users/maxrose/anaconda/lib/python2.7/site-packages/pyth/plugins/xhtml/reader.py\u001b[0m in \u001b[0;36m<module>\u001b[0;34m()\u001b[0m\n\u001b[1;32m      3\u001b[0m \"\"\"\n\u001b[1;32m      4\u001b[0m \u001b[0;34m\u001b[0m\u001b[0m\n\u001b[0;32m----> 5\u001b[0;31m \u001b[0;32mimport\u001b[0m \u001b[0mBeautifulSoup\u001b[0m\u001b[0;34m\u001b[0m\u001b[0m\n\u001b[0m\u001b[1;32m      6\u001b[0m \u001b[0;34m\u001b[0m\u001b[0m\n\u001b[1;32m      7\u001b[0m \u001b[0;32mfrom\u001b[0m \u001b[0mpyth\u001b[0m \u001b[0;32mimport\u001b[0m \u001b[0mdocument\u001b[0m\u001b[0;34m\u001b[0m\u001b[0m\n",
      "\u001b[0;31mImportError\u001b[0m: No module named BeautifulSoup"
     ]
    }
   ],
   "source": [
    "# -*- coding: utf-8 -*-\n",
    "\n",
    "from pyth.plugins.xhtml.reader import XHTMLReader\n",
    "from pyth.plugins.xhtml.writer import XHTMLWriter\n",
    "import xhtml\n",
    "\n",
    "from cStringIO import StringIO\n"
   ]
  },
  {
   "cell_type": "code",
   "execution_count": 1,
   "metadata": {
    "collapsed": false
   },
   "outputs": [
    {
     "ename": "ImportError",
     "evalue": "No module named BeautifulSoup",
     "output_type": "error",
     "traceback": [
      "\u001b[0;31m---------------------------------------------------------------------------\u001b[0m",
      "\u001b[0;31mImportError\u001b[0m                               Traceback (most recent call last)",
      "\u001b[0;32m<ipython-input-1-f4ba5915e2b1>\u001b[0m in \u001b[0;36m<module>\u001b[0;34m()\u001b[0m\n\u001b[1;32m      1\u001b[0m \u001b[0;34m\u001b[0m\u001b[0m\n\u001b[1;32m      2\u001b[0m \u001b[0;34m\u001b[0m\u001b[0m\n\u001b[0;32m----> 3\u001b[0;31m \u001b[0;32mfrom\u001b[0m \u001b[0mpyth\u001b[0m\u001b[0;34m.\u001b[0m\u001b[0mplugins\u001b[0m\u001b[0;34m.\u001b[0m\u001b[0mxhtml\u001b[0m\u001b[0;34m.\u001b[0m\u001b[0mreader\u001b[0m \u001b[0;32mimport\u001b[0m \u001b[0mXHTMLReader\u001b[0m\u001b[0;34m\u001b[0m\u001b[0m\n\u001b[0m\u001b[1;32m      4\u001b[0m \u001b[0;32mfrom\u001b[0m \u001b[0mpyth\u001b[0m\u001b[0;34m.\u001b[0m\u001b[0mplugins\u001b[0m\u001b[0;34m.\u001b[0m\u001b[0mxhtml\u001b[0m\u001b[0;34m.\u001b[0m\u001b[0mwriter\u001b[0m \u001b[0;32mimport\u001b[0m \u001b[0mXHTMLWriter\u001b[0m\u001b[0;34m\u001b[0m\u001b[0m\n\u001b[1;32m      5\u001b[0m \u001b[0;32mimport\u001b[0m \u001b[0mxhtml\u001b[0m\u001b[0;34m\u001b[0m\u001b[0m\n",
      "\u001b[0;32m/Users/maxrose/anaconda/lib/python2.7/site-packages/pyth/plugins/xhtml/reader.py\u001b[0m in \u001b[0;36m<module>\u001b[0;34m()\u001b[0m\n\u001b[1;32m      3\u001b[0m \"\"\"\n\u001b[1;32m      4\u001b[0m \u001b[0;34m\u001b[0m\u001b[0m\n\u001b[0;32m----> 5\u001b[0;31m \u001b[0;32mimport\u001b[0m \u001b[0mBeautifulSoup\u001b[0m\u001b[0;34m\u001b[0m\u001b[0m\n\u001b[0m\u001b[1;32m      6\u001b[0m \u001b[0;34m\u001b[0m\u001b[0m\n\u001b[1;32m      7\u001b[0m \u001b[0;32mfrom\u001b[0m \u001b[0mpyth\u001b[0m \u001b[0;32mimport\u001b[0m \u001b[0mdocument\u001b[0m\u001b[0;34m\u001b[0m\u001b[0m\n",
      "\u001b[0;31mImportError\u001b[0m: No module named BeautifulSoup"
     ]
    }
   ],
   "source": [
    "\n",
    "# A simple xhtml document with limited features.\n",
    "content = StringIO(r\"\"\"\n",
    "  <div>\n",
    "    <p><strong>Simple document</strong></p>\n",
    "    <p><i>this document has\n",
    "\n",
    "    </i>no hypertext links yet.</p>\n",
    "    <p><strong>bold text.</strong> <em>italic text.</em></p>\n",
    "    <p class=important>bold text from css style\n",
    "      <em> this is bold and italic</em>\n",
    "    </p>\n",
    "    <p class=bold> this is bold too</p>\n",
    "    <p>unicode characters : 你好</p>\n",
    "    <p style=\"font-weight: bold\">bold too</p>\n",
    "    <p>\n",
    "      example<span style=\"vertical-align: super\"> super </span>\n",
    "      example<span style=\"vertical-align: sub\"> sub </span>\n",
    "    </p>\n",
    "    a list\n",
    "    <ul>\n",
    "      <li>hello\n",
    "      test</li>\n",
    "      <li>bonjour</li>\n",
    "      <li>guten tag</li>\n",
    "    </ul>\n",
    "    <p>\n",
    "      <a href=http://www.google.com>a link\n",
    "      </a> single space here.\n",
    "      <br/>a br tag\n",
    "    </p>\n",
    "  </div>\n",
    "\"\"\")\n",
    "\n",
    "css = \"\"\"\n",
    "  .important {font-weight: bold}\n",
    "  p.bold {font-weight: bold}\n",
    "  .other {font-weight: normal; color: blue}\n",
    "\"\"\"\n",
    "\n",
    "if __name__ == '__main__':\n",
    "    # Parse the document and then reconstruct it using the xhtml\n",
    "    # writer.\n",
    "    doc = XHTMLReader.read(content, css)\n",
    "    print XHTMLWriter.write(doc).getvalue()"
   ]
  },
  {
   "cell_type": "code",
   "execution_count": 9,
   "metadata": {
    "collapsed": false
   },
   "outputs": [
    {
     "name": "stdout",
     "output_type": "stream",
     "text": [
      "<div>\n",
      "<p>Louis A. Mezzullo</p>\n",
      "\n",
      "<p>Withers Bergman LLP</p>\n",
      "\n",
      "<p>Rancho Santa Fe, California</p>\n",
      "\n",
      "<p>________________________________</p>\n",
      "\n",
      "<p>Louis A. Mezzullo is a consulting partner in Withers Bergman LLP, practicing principally in California. His principal areas of practice are taxation, estate and business planning, and employee benefit planning. He was an Adjunct Professor of Law at the University of Richmond Law School from 1978 to 2006, where he taught courses in those subjects, was on the faculty of the University of Miami School of Law Graduate Program in Estate Planning from 2004 until 2007, and was on the faculty of the University of San Diego School of Law in 2009. He is listed in <em>Who's Who in American Law, Who's Who in Emerging Leaders</em> and <em>Who’s Who in America</em> (Marquis Who's Who Publishers) and in <em>The Best Lawyers in America</em> (for tax, trust and estates, and employee benefits) (Woodward/White Publishers) and was listed as one of the top 50 Lawyers in the 2012 Edition of the <em>San Diego Super Lawyers</em> and in the Top Attorneys in Business Services in the <em>Corporate Counsel Edition of Super Lawyers</em>. He is listed in band 1, Wealth Management, Western Region, in Chambers USA 2016. He has written articles on the subjects of taxation, estate planning and employee benefits for the <em>Journal of Taxation</em>,<em> University of Richmond Law Review</em>, <em>Virginia Bar Association Journal</em>, <em>Estate Planning</em>, <em>ACTEC Journal,</em> <em>Probate &amp; Property</em>, <em>Taxation for Accountants</em>, <em>Taxation for Lawyers</em>, <em>Taxation of Employee Benefits</em>, <em>Journal of Passthrough Entities</em>, <em>Business Entities, </em>and <em>Trusts &amp; Estates</em>. He has authored <em>An Estate Planner’s Guide to Buy-Sell Agreements </em>(1<span style=\"vertical-align: super; font-size: smaller\">st</span> and 2<span style=\"vertical-align: super; font-size: smaller\">nd</span> editions)<em>, An Estate Planner’s Guide to Life Insurance </em>(1<span style=\"vertical-align: super; font-size: smaller\">st</span> and 2<span style=\"vertical-align: super; font-size: smaller\">nd</span> editions)<em>, An Estate Planner's Guide to Qualified Retirement Plan Benefits </em>(1<span style=\"vertical-align: super; font-size: smaller\">st</span>, 2<span style=\"vertical-align: super; font-size: smaller\">nd,</span> 3<span style=\"vertical-align: super; font-size: smaller\">rd, </span>and 4<span style=\"vertical-align: super; font-size: smaller\">th</span> editions), <em>An Estate Planner's Guide to Family Business Entities</em> (1<span style=\"vertical-align: super; font-size: smaller\">st,</span> 2<span style=\"vertical-align: super; font-size: smaller\">nd</span> and 3<span style=\"vertical-align: super; font-size: smaller\">rd</span> editions), and <em>Valuation Rules Under Chapter 14</em>, all published by the American Bar Association Section of Real Property, Trust and Estate Law; co-authored <em>Advising the Elderly Client</em>, published by Clark Boardman Callaghan; authored <em>Transfers of Interests in Family Entities Under Chapter 14:  Sections 2701, 2703, and 2704</em>, 835 Tax Management Portfolio (3<span style=\"vertical-align: super; font-size: smaller\">rd</span> edition); <em>The Mobile Client: Tax, Community Property, etc., </em>803 Tax Management Portfolio<em>; Estate Planning for Owners of Closely Held Business Interests</em>, 809 Tax Management Portfolio (2<span style=\"vertical-align: super; font-size: smaller\">nd</span> edition); <em>Family Limited Partnerships and Limited Liability Companies, </em>812 Tax Management Portfolio; <em>Estate and Gift Tax Issues for Employee Benefit Plans</em>, 378 Tax Management Portfolio (1<span style=\"vertical-align: super; font-size: smaller\">st,</span> 2<span style=\"vertical-align: super; font-size: smaller\">nd, </span>and 3<span style=\"vertical-align: super; font-size: smaller\">rd</span> editions); <em>Life Insurance, </em>826-3<span style=\"vertical-align: super; font-size: smaller\">rd</span> Tax Management Portfolio (3rd edition)<em>; </em>and<em> Valuation of Corporate </em>Stock, 831 Tax Management Portfolio (3<span style=\"vertical-align: super; font-size: smaller\">rd</span> edition), all published by the Bureau of National Affairs, Inc.; and was editor and co-author of <em>Limited Liability Companies in Virginia</em>, published by the Virginia Law Foundation.  He has spoken at numerous tax and estate planning conferences, including the Heckerling Institute on Estate Planning, the University of Southern California Institute on Federal Taxation, the Notre Dame Estate Planning Conference, the Mid-America Tax Conference, the Heart of America Tax Conference, the William and Mary Tax Conference, and the Virginia Federal Tax Conference.</p>\n",
      "\n",
      "<p>Mezzullo received his J.D. from the University of Richmond Law School, and a B.A. and M.A. from the University of Maryland.  He is a past Chair of the American College of Tax Counsel; a Fellow of the American Bar Foundation; a Fellow of the Virginia Law Foundation; a Past President of the American College of Trust and Estate Counsel, as well as former Chair of its Business Planning, Employee Benefits in Estate Planning, and Elder Law Committees; a Charter Fellow of the American College of Employee Benefits Counsel; an Academician and a former Vice President of the International Academy of Trust and Estate Law; and a member of the Virginia State Bar; California State Bar, and American Bar Association, a former Vice-chair of the ABA Section of Taxation, and a past Chair of the ABA Section of Real Property, Trust and Estate Law.</p>\n",
      "\n",
      "<p>He is also a member of the Heckerling Institute on Estate Planning Advisory Committee, former Chair of the University of Richmond Estate Planning Advisory Council, former President of the Trust Administrator's Council of Richmond, and former co-director of the William and Mary Tax Conference. He is a former member of the Editorial Boards of the <em>ACTEC Journal,</em> the <em>Journal of Passthrough Entities, </em>and <em>Trusts &amp; Estates</em> magazine<em>,</em> and former editor of <em>ACTEC Journal</em>.</p>\n",
      "\n",
      "<p>Mezzullo is a member of the Board of Directors of the Rancho Santa Fe Foundation. He was also a former member of the Board of Associates of the University of Richmond and former Chair of the Business Council of the Virginia Museum of Fine Arts and a former member of the Board of Directors of the Virginia Museum of Fine Arts Foundation. He is a former member of the Board of Directors of the San Diego YMCA and of the San Diego Opera. He is a former member of the Advisory Committee of the Virginia Opera, and a former member of the Board of Directors of the American Heart Association, Virginia Affiliate, the Richmond Symphony, the Richmond Ballet, and Willow Oaks Country Club. He was also President of the Southampton Citizens Association in 1972, and from 1985 to 1987.</p>\n",
      "</div>\n"
     ]
    }
   ],
   "source": [
    "import sys\n",
    "import os.path\n",
    "\n",
    "from pyth.plugins.rtf15.reader import Rtf15Reader\n",
    "from pyth.plugins.xhtml.writer import XHTMLWriter\n",
    "\n",
    "\n",
    "\n",
    "filename = '/Users/maxrose/Documents/DM/Heckerling/Mezzullo_Bio2018.rtf'\n",
    "\n",
    "doc = Rtf15Reader.read(open(filename, \"rb\"))\n",
    "\n",
    "print XHTMLWriter.write(doc, pretty=True).read()"
   ]
  },
  {
   "cell_type": "code",
   "execution_count": 16,
   "metadata": {
    "collapsed": false
   },
   "outputs": [
    {
     "name": "stdout",
     "output_type": "stream",
     "text": [
      "Help on package pyth:\n",
      "\n",
      "NAME\n",
      "    pyth - Pyth -- Python text markup and conversion\n",
      "\n",
      "FILE\n",
      "    /Users/maxrose/anaconda/lib/python2.7/site-packages/pyth/__init__.py\n",
      "\n",
      "PACKAGE CONTENTS\n",
      "    document\n",
      "    encodings (package)\n",
      "    errors\n",
      "    format\n",
      "    plugins (package)\n",
      "\n",
      "FUNCTIONS\n",
      "    namedModule(name)\n",
      "        Return a module given its name.\n",
      "    \n",
      "    namedObject(name)\n",
      "        Get a fully named module-global object.\n",
      "    \n",
      "    write(doc, filename)\n",
      "\n",
      "DATA\n",
      "    __version__ = '0.5.6'\n",
      "    mimeMap = {'.html': 'text/html', '.rtf': 'application/rtf', '.txt': 't...\n",
      "    writerMap = {'.html': 'pyth.plugins.xhtml.writer.XHTMLWriter', '.pdf':...\n",
      "\n",
      "VERSION\n",
      "    0.5.6\n",
      "\n",
      "\n"
     ]
    }
   ],
   "source": [
    "import pyth\n",
    "help(pyth)"
   ]
  },
  {
   "cell_type": "code",
   "execution_count": 17,
   "metadata": {
    "collapsed": false
   },
   "outputs": [
    {
     "ename": "ImportError",
     "evalue": "No module named pythonDoc",
     "output_type": "error",
     "traceback": [
      "\u001b[0;31m---------------------------------------------------------------------------\u001b[0m",
      "\u001b[0;31mImportError\u001b[0m                               Traceback (most recent call last)",
      "\u001b[0;32m<ipython-input-17-fcc3f9bcc0f3>\u001b[0m in \u001b[0;36m<module>\u001b[0;34m()\u001b[0m\n\u001b[1;32m      1\u001b[0m \u001b[0;32mfrom\u001b[0m \u001b[0mpyth\u001b[0m\u001b[0;34m.\u001b[0m\u001b[0mplugins\u001b[0m\u001b[0;34m.\u001b[0m\u001b[0mxhtml\u001b[0m\u001b[0;34m.\u001b[0m\u001b[0mwriter\u001b[0m \u001b[0;32mimport\u001b[0m \u001b[0mXHTMLWriter\u001b[0m\u001b[0;34m\u001b[0m\u001b[0m\n\u001b[0;32m----> 2\u001b[0;31m \u001b[0;32mimport\u001b[0m \u001b[0mpythonDoc\u001b[0m\u001b[0;34m\u001b[0m\u001b[0m\n\u001b[0m\u001b[1;32m      3\u001b[0m \u001b[0;34m\u001b[0m\u001b[0m\n\u001b[1;32m      4\u001b[0m \u001b[0;34m\u001b[0m\u001b[0m\n\u001b[1;32m      5\u001b[0m docTemplate = '''<!DOCTYPE html PUBLIC \"-//W3C//DTD XHTML 1.0 Strict//EN\" \"http://www.w3.org/TR/xhtml1/DTD/xhtml1-strict.dtd\">\n",
      "\u001b[0;31mImportError\u001b[0m: No module named pythonDoc"
     ]
    }
   ],
   "source": [
    "from pyth.plugins.xhtml.writer import XHTMLWriter\n",
    "import pythonDoc\n",
    "\n",
    "\n",
    "docTemplate = '''<!DOCTYPE html PUBLIC \"-//W3C//DTD XHTML 1.0 Strict//EN\" \"http://www.w3.org/TR/xhtml1/DTD/xhtml1-strict.dtd\">\n",
    "<html xmlns=\"http://www.w3.org/1999/xhtml\">\n",
    "<head>\n",
    "  <title>Pyth document</title>\n",
    "  <style type=\"text/css\">body { font-family: Verdana; }</style>\n",
    "</head>\n",
    "<body>\n",
    "%s\n",
    "</body>\n",
    "</html>\n",
    "'''\n",
    "\n",
    "\n",
    "if __name__ == \"__main__\":\n",
    "    doc = pythonDoc.buildDoc()\n",
    "    print docTemplate % XHTMLWriter.write(doc, pretty=True).getvalue()"
   ]
  },
  {
   "cell_type": "code",
   "execution_count": null,
   "metadata": {
    "collapsed": true
   },
   "outputs": [],
   "source": []
  }
 ],
 "metadata": {
  "kernelspec": {
   "display_name": "Python [Root]",
   "language": "python",
   "name": "Python [Root]"
  }
 },
 "nbformat": 4,
 "nbformat_minor": 0
}
